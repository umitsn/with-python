{
 "cells": [
  {
   "cell_type": "markdown",
   "metadata": {},
   "source": [
    "- **abs**\n",
    "- **all**\n",
    "- **any**\n",
    "- **ascii**\n",
    "- **bin**\n",
    "- **bool**\n",
    "- **bytearray**\n",
    "- **bytes**\n",
    "- **callable**\n",
    "- **chr**"
   ]
  },
  {
   "cell_type": "markdown",
   "metadata": {},
   "source": [
    "- **abs**\n",
    "    - Negatif bir sayının ya da bir karmaşık sayının mutlak değerini döndürür."
   ]
  },
  {
   "cell_type": "code",
   "execution_count": 6,
   "metadata": {},
   "outputs": [
    {
     "data": {
      "text/plain": [
       "9.219544457292887"
      ]
     },
     "execution_count": 6,
     "metadata": {},
     "output_type": "execute_result"
    }
   ],
   "source": [
    "abs(6+7j)"
   ]
  },
  {
   "cell_type": "markdown",
   "metadata": {},
   "source": [
    "- **all**\n",
    "    - Yinelenebilir yapıdaki bütün elemanlar True ya da 1 ise True\\\n",
    "    değilse False sonucu döndürür."
   ]
  },
  {
   "cell_type": "code",
   "execution_count": 1,
   "metadata": {},
   "outputs": [
    {
     "data": {
      "text/plain": [
       "False"
      ]
     },
     "execution_count": 1,
     "metadata": {},
     "output_type": "execute_result"
    }
   ],
   "source": [
    "list1 = [1,1]\n",
    "set1 = {1,0}\n",
    "tupl1 = (1,1,1,False)\n",
    "\n",
    "all(tupl1)"
   ]
  },
  {
   "cell_type": "markdown",
   "metadata": {},
   "source": [
    "- **any**\n",
    "    * Yinelenebilir bir yapının herhangi bir elemanı 1 ya da True ise True,\\\n",
    "    değilse False sonucunu döndürür."
   ]
  },
  {
   "cell_type": "code",
   "execution_count": 12,
   "metadata": {},
   "outputs": [
    {
     "data": {
      "text/plain": [
       "False"
      ]
     },
     "execution_count": 12,
     "metadata": {},
     "output_type": "execute_result"
    }
   ],
   "source": [
    "list1 = [0,0,False]\n",
    "set1 = {False,0}\n",
    "tupl1 = (1,1,1,False)\n",
    "dict1 = {0:\"a\",1:\"b\"}\n",
    "\n",
    "any(set1)"
   ]
  },
  {
   "cell_type": "markdown",
   "metadata": {},
   "source": [
    "- **ascii**\n",
    "    - Liste, küme, tupl gibi yinelenebilir yapıdaki\\\n",
    "    ASCII olmayan karakerleri kaçış karakterleriyle değiştirir."
   ]
  },
  {
   "cell_type": "code",
   "execution_count": 9,
   "metadata": {},
   "outputs": [
    {
     "data": {
      "text/plain": [
       "\"['\\\\xdc', '\\\\u015e', '\\\\xc7', '\\\\u011e', '\\\\u011f', '\\\\xf6']\""
      ]
     },
     "execution_count": 9,
     "metadata": {},
     "output_type": "execute_result"
    }
   ],
   "source": [
    "txt = \"Ümit\"\n",
    "list1 = [\"Ü\",\"Ş\",\"Ç\",\"Ğ\",\"ğ\",\"ö\"]\n",
    "\n",
    "ascii(list1)"
   ]
  },
  {
   "cell_type": "markdown",
   "metadata": {},
   "source": [
    "- **bin**\n",
    "    - Bir tam sayının ikilik sayı sistemindeki değerini döndürür.\\\n",
    "    Sonuç 0b ile başlar. Girilen ifade tam sayı değilse hata değeri\\\n",
    "    döndürür.\n"
   ]
  },
  {
   "cell_type": "code",
   "execution_count": 5,
   "metadata": {},
   "outputs": [
    {
     "data": {
      "text/plain": [
       "'0b101000'"
      ]
     },
     "execution_count": 5,
     "metadata": {},
     "output_type": "execute_result"
    }
   ],
   "source": [
    "bin(40)"
   ]
  },
  {
   "cell_type": "markdown",
   "metadata": {},
   "source": [
    "- **bool**\n",
    "    - None,Boş yapı,0 ya da False ise False\n",
    "        - Boş yapı [],(),{} olabilir.\n",
    "    - String, 0 hariç herhanbi bir sayı ya da True ise True\n",
    "    değeri döndürür.\n"
   ]
  },
  {
   "cell_type": "code",
   "execution_count": 13,
   "metadata": {},
   "outputs": [
    {
     "name": "stdout",
     "output_type": "stream",
     "text": [
      "False True True True\n"
     ]
    }
   ],
   "source": [
    "a = bool(None)\n",
    "b = bool(\"umit\")\n",
    "c=bool({0})\n",
    "d=bool(0.1)\n",
    "print(a,b,c,d)"
   ]
  },
  {
   "cell_type": "markdown",
   "metadata": {},
   "source": [
    "- **bytearray**\n",
    "    - Nesneleri bytearray nesnesine çevirir.\\\n",
    "    Belirtilen boyutta boş bytearray nesnesi oluşturabilir."
   ]
  },
  {
   "cell_type": "code",
   "execution_count": 11,
   "metadata": {},
   "outputs": [
    {
     "data": {
      "text/plain": [
       "bytearray(b'\\x00\\x00\\x00\\x00\\x00')"
      ]
     },
     "execution_count": 11,
     "metadata": {},
     "output_type": "execute_result"
    }
   ],
   "source": [
    "a = bytearray(5)\n",
    "a"
   ]
  },
  {
   "cell_type": "markdown",
   "metadata": {},
   "source": [
    "- **bytes**\n",
    "    - bytearray ile aynı işlevi görür.\\\n",
    "    Fakat bytes ile oluşturulan nesne değiştirilemez."
   ]
  },
  {
   "cell_type": "code",
   "execution_count": 4,
   "metadata": {},
   "outputs": [
    {
     "data": {
      "text/plain": [
       "b'\\x01\\x05'"
      ]
     },
     "execution_count": 4,
     "metadata": {},
     "output_type": "execute_result"
    }
   ],
   "source": [
    "a =  bytes({1,5})\n",
    "a"
   ]
  },
  {
   "cell_type": "markdown",
   "metadata": {},
   "source": [
    "- **callable**\n",
    "    - Bir nesnenin çağırılabilir olup olmadığını kontrol eder.\n",
    "    - Değişkenler çağırılabilir değildir. Fonksiyonlar çağırılabilir nesnelere örnek verilebilir."
   ]
  },
  {
   "cell_type": "code",
   "execution_count": 8,
   "metadata": {},
   "outputs": [
    {
     "data": {
      "text/plain": [
       "True"
      ]
     },
     "execution_count": 8,
     "metadata": {},
     "output_type": "execute_result"
    }
   ],
   "source": [
    "def p():\n",
    "    print(\"python\")\n",
    "\n",
    "num = 10\n",
    "callable(print)"
   ]
  },
  {
   "cell_type": "markdown",
   "metadata": {},
   "source": [
    "- **chr**\n",
    "    - Bir sayının karakter karşılığını verir."
   ]
  },
  {
   "cell_type": "code",
   "execution_count": 7,
   "metadata": {},
   "outputs": [
    {
     "data": {
      "text/plain": [
       "'r'"
      ]
     },
     "execution_count": 7,
     "metadata": {},
     "output_type": "execute_result"
    }
   ],
   "source": [
    "chr(114)"
   ]
  },
  {
   "cell_type": "code",
   "execution_count": null,
   "metadata": {},
   "outputs": [],
   "source": []
  }
 ],
 "metadata": {
  "kernelspec": {
   "display_name": "Python 3",
   "language": "python",
   "name": "python3"
  },
  "language_info": {
   "codemirror_mode": {
    "name": "ipython",
    "version": 3
   },
   "file_extension": ".py",
   "mimetype": "text/x-python",
   "name": "python",
   "nbconvert_exporter": "python",
   "pygments_lexer": "ipython3",
   "version": "3.12.0"
  }
 },
 "nbformat": 4,
 "nbformat_minor": 2
}
