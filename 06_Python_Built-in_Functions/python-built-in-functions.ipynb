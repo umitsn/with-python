{
 "cells": [
  {
   "cell_type": "markdown",
   "metadata": {},
   "source": [
    "- **abs**\n",
    "- **all**\n",
    "- **any**\n",
    "- **ascii**\n",
    "- **bin**\n",
    "- **bool**\n",
    "- **bytearray**\n",
    "- **bytes**\n",
    "- **callable**\n",
    "- **chr**\n",
    "- **classmethod**\n",
    "- **compile**\n",
    "- **complex**\n",
    "- **delattr**\n",
    "- **dict**\n",
    "- **dir**\n",
    "- **divmod**\n",
    "- **eval**\n",
    "- **enumerate**\n",
    "- **exec**"
   ]
  },
  {
   "cell_type": "markdown",
   "metadata": {},
   "source": [
    "- **abs**\n",
    "    - Negatif bir sayının ya da bir karmaşık sayının mutlak değerini döndürür."
   ]
  },
  {
   "cell_type": "code",
   "execution_count": 6,
   "metadata": {},
   "outputs": [
    {
     "data": {
      "text/plain": [
       "9.219544457292887"
      ]
     },
     "execution_count": 6,
     "metadata": {},
     "output_type": "execute_result"
    }
   ],
   "source": [
    "abs(6+7j)"
   ]
  },
  {
   "cell_type": "markdown",
   "metadata": {},
   "source": [
    "- **all**\n",
    "    - Yinelenebilir yapıdaki bütün elemanlar True ya da 1 ise True\\\n",
    "    değilse False sonucu döndürür."
   ]
  },
  {
   "cell_type": "code",
   "execution_count": 1,
   "metadata": {},
   "outputs": [
    {
     "data": {
      "text/plain": [
       "False"
      ]
     },
     "execution_count": 1,
     "metadata": {},
     "output_type": "execute_result"
    }
   ],
   "source": [
    "list1 = [1,1]\n",
    "set1 = {1,0}\n",
    "tupl1 = (1,1,1,False)\n",
    "\n",
    "all(tupl1)"
   ]
  },
  {
   "cell_type": "markdown",
   "metadata": {},
   "source": [
    "- **any**\n",
    "    * Yinelenebilir bir yapının herhangi bir elemanı 1 ya da True ise True,\\\n",
    "    değilse False sonucunu döndürür."
   ]
  },
  {
   "cell_type": "code",
   "execution_count": 12,
   "metadata": {},
   "outputs": [
    {
     "data": {
      "text/plain": [
       "False"
      ]
     },
     "execution_count": 12,
     "metadata": {},
     "output_type": "execute_result"
    }
   ],
   "source": [
    "list1 = [0,0,False]\n",
    "set1 = {False,0}\n",
    "tupl1 = (1,1,1,False)\n",
    "dict1 = {0:\"a\",1:\"b\"}\n",
    "\n",
    "any(set1)"
   ]
  },
  {
   "cell_type": "markdown",
   "metadata": {},
   "source": [
    "- **ascii**\n",
    "    - Liste, küme, tupl gibi yinelenebilir yapıdaki\\\n",
    "    ASCII olmayan karakerleri kaçış karakterleriyle değiştirir."
   ]
  },
  {
   "cell_type": "code",
   "execution_count": 9,
   "metadata": {},
   "outputs": [
    {
     "data": {
      "text/plain": [
       "\"['\\\\xdc', '\\\\u015e', '\\\\xc7', '\\\\u011e', '\\\\u011f', '\\\\xf6']\""
      ]
     },
     "execution_count": 9,
     "metadata": {},
     "output_type": "execute_result"
    }
   ],
   "source": [
    "txt = \"Ümit\"\n",
    "list1 = [\"Ü\",\"Ş\",\"Ç\",\"Ğ\",\"ğ\",\"ö\"]\n",
    "\n",
    "ascii(list1)"
   ]
  },
  {
   "cell_type": "markdown",
   "metadata": {},
   "source": [
    "- **bin**\n",
    "    - Bir tam sayının ikilik sayı sistemindeki değerini döndürür.\\\n",
    "    Sonuç 0b ile başlar. Girilen ifade tam sayı değilse hata değeri\\\n",
    "    döndürür.\n"
   ]
  },
  {
   "cell_type": "code",
   "execution_count": 5,
   "metadata": {},
   "outputs": [
    {
     "data": {
      "text/plain": [
       "'0b101000'"
      ]
     },
     "execution_count": 5,
     "metadata": {},
     "output_type": "execute_result"
    }
   ],
   "source": [
    "bin(40)"
   ]
  },
  {
   "cell_type": "markdown",
   "metadata": {},
   "source": [
    "- **bool**\n",
    "    - None,Boş yapı,0 ya da False ise False\n",
    "        - Boş yapı [],(),{} olabilir.\n",
    "    - String, 0 hariç herhanbi bir sayı ya da True ise True\n",
    "    değeri döndürür.\n"
   ]
  },
  {
   "cell_type": "code",
   "execution_count": 13,
   "metadata": {},
   "outputs": [
    {
     "name": "stdout",
     "output_type": "stream",
     "text": [
      "False True True True\n"
     ]
    }
   ],
   "source": [
    "a = bool(None)\n",
    "b = bool(\"umit\")\n",
    "c=bool({0})\n",
    "d=bool(0.1)\n",
    "print(a,b,c,d)"
   ]
  },
  {
   "cell_type": "markdown",
   "metadata": {},
   "source": [
    "- **bytearray**\n",
    "    - Nesneleri bytearray nesnesine çevirir.\\\n",
    "    Belirtilen boyutta boş bytearray nesnesi oluşturabilir."
   ]
  },
  {
   "cell_type": "code",
   "execution_count": 11,
   "metadata": {},
   "outputs": [
    {
     "data": {
      "text/plain": [
       "bytearray(b'\\x00\\x00\\x00\\x00\\x00')"
      ]
     },
     "execution_count": 11,
     "metadata": {},
     "output_type": "execute_result"
    }
   ],
   "source": [
    "a = bytearray(5)\n",
    "a"
   ]
  },
  {
   "cell_type": "markdown",
   "metadata": {},
   "source": [
    "- **bytes**\n",
    "    - bytearray ile aynı işlevi görür.\\\n",
    "    Fakat bytes ile oluşturulan nesne değiştirilemez."
   ]
  },
  {
   "cell_type": "code",
   "execution_count": 4,
   "metadata": {},
   "outputs": [
    {
     "data": {
      "text/plain": [
       "b'\\x01\\x05'"
      ]
     },
     "execution_count": 4,
     "metadata": {},
     "output_type": "execute_result"
    }
   ],
   "source": [
    "a =  bytes({1,5})\n",
    "a"
   ]
  },
  {
   "cell_type": "markdown",
   "metadata": {},
   "source": [
    "- **callable**\n",
    "    - Bir nesnenin çağırılabilir olup olmadığını kontrol eder.\n",
    "    - Değişkenler çağırılabilir değildir. Fonksiyonlar çağırılabilir nesnelere örnek verilebilir."
   ]
  },
  {
   "cell_type": "code",
   "execution_count": 8,
   "metadata": {},
   "outputs": [
    {
     "data": {
      "text/plain": [
       "True"
      ]
     },
     "execution_count": 8,
     "metadata": {},
     "output_type": "execute_result"
    }
   ],
   "source": [
    "def p():\n",
    "    print(\"python\")\n",
    "\n",
    "num = 10\n",
    "callable(print)"
   ]
  },
  {
   "cell_type": "markdown",
   "metadata": {},
   "source": [
    "- **chr**\n",
    "    - Bir sayının karakter karşılığını verir."
   ]
  },
  {
   "cell_type": "code",
   "execution_count": 7,
   "metadata": {},
   "outputs": [
    {
     "data": {
      "text/plain": [
       "'r'"
      ]
     },
     "execution_count": 7,
     "metadata": {},
     "output_type": "execute_result"
    }
   ],
   "source": [
    "chr(114)"
   ]
  },
  {
   "cell_type": "markdown",
   "metadata": {},
   "source": [
    "- **classmethod**\n",
    "    - Bir fonksiyonu sınıf yapısına döndürür."
   ]
  },
  {
   "cell_type": "code",
   "execution_count": 13,
   "metadata": {},
   "outputs": [
    {
     "data": {
      "text/plain": [
       "function"
      ]
     },
     "execution_count": 13,
     "metadata": {},
     "output_type": "execute_result"
    }
   ],
   "source": [
    "@classmethod\n",
    "def func(a,b):\n",
    "    return a+b\n",
    "\n"
   ]
  },
  {
   "cell_type": "markdown",
   "metadata": {},
   "source": [
    "- **compile**\n",
    "    - Metin halindeki kodu çalıştırır."
   ]
  },
  {
   "cell_type": "code",
   "execution_count": 16,
   "metadata": {},
   "outputs": [
    {
     "name": "stdout",
     "output_type": "stream",
     "text": [
      "umit sen 40\n"
     ]
    }
   ],
   "source": [
    "txt = \"print('umit sen',5*8)\"\n",
    "a =  compile(txt,'test','eval')\n",
    "exec(a)"
   ]
  },
  {
   "cell_type": "markdown",
   "metadata": {},
   "source": [
    "- **complex**\n",
    "    - complex(real, imaginary)\n",
    "    - reel ve sanal kısmı girilen sayıyı kompleks sayıya dönüştürür."
   ]
  },
  {
   "cell_type": "code",
   "execution_count": 8,
   "metadata": {},
   "outputs": [
    {
     "data": {
      "text/plain": [
       "(2+9j)"
      ]
     },
     "execution_count": 8,
     "metadata": {},
     "output_type": "execute_result"
    }
   ],
   "source": [
    "a = complex(\"2+9j\")\n",
    "a"
   ]
  },
  {
   "cell_type": "markdown",
   "metadata": {},
   "source": [
    "- **delattr**\n",
    "    - Bir nesneden belirtilen bir özellik ya da yöntemi siler."
   ]
  },
  {
   "cell_type": "code",
   "execution_count": 5,
   "metadata": {},
   "outputs": [
    {
     "ename": "AttributeError",
     "evalue": "type object 'MyClass' has no attribute 'x'",
     "output_type": "error",
     "traceback": [
      "\u001b[0;31m---------------------------------------------------------------------------\u001b[0m",
      "\u001b[0;31mAttributeError\u001b[0m                            Traceback (most recent call last)",
      "Cell \u001b[0;32mIn[5], line 7\u001b[0m\n\u001b[1;32m      4\u001b[0m     age \u001b[38;5;241m=\u001b[39m \u001b[38;5;241m40\u001b[39m\n\u001b[1;32m      6\u001b[0m \u001b[38;5;28mdelattr\u001b[39m(MyClass,\u001b[38;5;124m'\u001b[39m\u001b[38;5;124mx\u001b[39m\u001b[38;5;124m'\u001b[39m)\n\u001b[0;32m----> 7\u001b[0m \u001b[38;5;28mprint\u001b[39m(\u001b[43mMyClass\u001b[49m\u001b[38;5;241;43m.\u001b[39;49m\u001b[43mx\u001b[49m)\n",
      "\u001b[0;31mAttributeError\u001b[0m: type object 'MyClass' has no attribute 'x'"
     ]
    }
   ],
   "source": [
    "class MyClass:\n",
    "    x = 3\n",
    "    y = 10\n",
    "    age = 40\n",
    "\n",
    "delattr(MyClass,'x')\n",
    "print(MyClass.x)"
   ]
  },
  {
   "cell_type": "markdown",
   "metadata": {},
   "source": [
    "- **dict**\n",
    "    - Liste, demet(tupl) gibi yinelenebilir yapılardaki anahtar ve değer\\\n",
    "    içeren ifaleri sözlük yapısına çevirir "
   ]
  },
  {
   "cell_type": "code",
   "execution_count": 26,
   "metadata": {},
   "outputs": [
    {
     "data": {
      "text/plain": [
       "{'c': 'Python', 'a': 1, 'b': '2'}"
      ]
     },
     "execution_count": 26,
     "metadata": {},
     "output_type": "execute_result"
    }
   ],
   "source": [
    "p1 = [(\"a\",1),(\"b\",2),(\"c\",\"3\")]\n",
    "p2 = ((\"k\",3),(\"l\",\"Python\"))\n",
    "\n",
    "dict([(\"c\",\"Python\")],a=1,b=\"2\")"
   ]
  },
  {
   "cell_type": "markdown",
   "metadata": {},
   "source": [
    "- **dir**\n",
    "    - Bir nesnenin içeriğini (yöntemlerini, özelliklerini vs) gösterir."
   ]
  },
  {
   "cell_type": "code",
   "execution_count": 22,
   "metadata": {},
   "outputs": [
    {
     "name": "stdout",
     "output_type": "stream",
     "text": [
      "['acos', 'acosh', 'asin', 'asinh', 'atan', 'atan2', 'atanh', 'cbrt', 'ceil', 'comb', 'copysign', 'cos', 'cosh', 'degrees', 'dist', 'e', 'erf', 'erfc', 'exp', 'exp2', 'expm1', 'fabs', 'factorial', 'floor', 'fmod', 'frexp', 'fsum', 'gamma', 'gcd', 'hypot', 'inf', 'isclose', 'isfinite', 'isinf', 'isnan', 'isqrt', 'lcm', 'ldexp', 'lgamma', 'log', 'log10', 'log1p', 'log2', 'modf', 'nan', 'nextafter', 'perm', 'pi', 'pow', 'prod', 'radians', 'remainder', 'sin', 'sinh', 'sqrt', 'sumprod', 'tan', 'tanh', 'tau', 'trunc', 'ulp']\n"
     ]
    }
   ],
   "source": [
    "import math\n",
    "\n",
    "class MyClass:\n",
    "    x = 3\n",
    "    y = 10\n",
    "    age = 40\n",
    "    \n",
    "A = [i for i in dir(math) if \"_\" not in i]\n",
    "print(A)"
   ]
  },
  {
   "cell_type": "markdown",
   "metadata": {},
   "source": [
    "- **divmod**\n",
    "    - Bir sayının diğer bir sayıya bölümüyle oluşan bölüm ve kalan değerlerini verir."
   ]
  },
  {
   "cell_type": "code",
   "execution_count": 31,
   "metadata": {},
   "outputs": [
    {
     "data": {
      "text/plain": [
       "(6, 2)"
      ]
     },
     "execution_count": 31,
     "metadata": {},
     "output_type": "execute_result"
    }
   ],
   "source": [
    "#15 = 2*a+b\n",
    "a = 15//2\n",
    "b = 15%2\n",
    "a,b\n",
    "divmod(20,3)"
   ]
  },
  {
   "cell_type": "markdown",
   "metadata": {},
   "source": [
    "- **eval**\n",
    "    - String bir ifadeyi bilgisayar tarafından çalıştırılabilir hale getirir."
   ]
  },
  {
   "cell_type": "code",
   "execution_count": 3,
   "metadata": {},
   "outputs": [
    {
     "data": {
      "text/plain": [
       "['merhaba']"
      ]
     },
     "execution_count": 3,
     "metadata": {},
     "output_type": "execute_result"
    }
   ],
   "source": [
    "a = 5\n",
    "b = 10\n",
    "str1 = \"2*a+3*b\"\n",
    "eval(str1)\n",
    "\n",
    "eval(\"open('deneme.txt','w').write('merhaba')\")\n",
    "eval(\"open('deneme.txt','r').readlines()\")"
   ]
  },
  {
   "cell_type": "markdown",
   "metadata": {},
   "source": [
    "- **enumerate**\n",
    "    - Liste, tupl gibi bir yapıdaki her bir elemanı ardışık olarak bir sayıyla eşleştirir."
   ]
  },
  {
   "cell_type": "code",
   "execution_count": 40,
   "metadata": {},
   "outputs": [
    {
     "name": "stdout",
     "output_type": "stream",
     "text": [
      "[(0, 'elma'), (1, 'armut'), (2, 'kiraz')]\n",
      "[(0, 'M'), (1, 'e'), (2, 'r'), (3, 'h'), (4, 'a'), (5, 'b'), (6, 'a'), (7, '.'), (8, ' ')]\n",
      "[(5, 'a'), (6, 'b'), (7, 'c'), (8, 'd')]\n"
     ]
    }
   ],
   "source": [
    "e1 = (\"a\",\"b\",\"c\",\"d\")\n",
    "e2 = [\"elma\",\"armut\",\"kiraz\"]\n",
    "e3 = \"Merhaba. \"\n",
    "\n",
    "print(list(enumerate(e2)))\n",
    "print(list(enumerate(e3)))\n",
    "print(list(enumerate(e1,5)))"
   ]
  },
  {
   "cell_type": "markdown",
   "metadata": {},
   "source": []
  },
  {
   "cell_type": "markdown",
   "metadata": {},
   "source": []
  },
  {
   "cell_type": "markdown",
   "metadata": {},
   "source": [
    "- **exec**\n",
    "    - eval fonksiyonuna benzer işi yapar."
   ]
  },
  {
   "cell_type": "code",
   "execution_count": 38,
   "metadata": {},
   "outputs": [
    {
     "name": "stdout",
     "output_type": "stream",
     "text": [
      "[(0, 'elma'), (1, 'armut'), (2, 'kiraz')]\n",
      "[(0, 'M'), (1, 'e'), (2, 'r'), (3, 'h'), (4, 'a'), (5, 'b'), (6, 'a'), (7, '.'), (8, ' ')]\n",
      "[(7, 'a'), (8, 'b'), (9, 'c'), (10, 'd')]\n"
     ]
    }
   ],
   "source": [
    "str1 = \"\"\"dosya = open('exec-deneme.txt','w')\n",
    "dosya.write('exec deneme satır 1\\\\n')\n",
    "dosya.write('exec deneme satır 2')\n",
    "dosya.close()\n",
    "print(open('exec-deneme.txt','r').readlines())\"\"\"\n",
    "\n",
    "str2 = \"\"\"e1 = (\"a\",\"b\",\"c\",\"d\")\n",
    "e2 = [\"elma\",\"armut\",\"kiraz\"]\n",
    "e3 = \"Merhaba. \"\n",
    "print(list(enumerate(e2)))\n",
    "print(list(enumerate(e3)))\n",
    "print(list(enumerate(e1,7)))\n",
    "\"\"\"\n",
    "exec(str2)"
   ]
  },
  {
   "cell_type": "code",
   "execution_count": null,
   "metadata": {},
   "outputs": [],
   "source": []
  }
 ],
 "metadata": {
  "kernelspec": {
   "display_name": "Python 3",
   "language": "python",
   "name": "python3"
  },
  "language_info": {
   "codemirror_mode": {
    "name": "ipython",
    "version": 3
   },
   "file_extension": ".py",
   "mimetype": "text/x-python",
   "name": "python",
   "nbconvert_exporter": "python",
   "pygments_lexer": "ipython3",
   "version": "3.12.0"
  }
 },
 "nbformat": 4,
 "nbformat_minor": 2
}
