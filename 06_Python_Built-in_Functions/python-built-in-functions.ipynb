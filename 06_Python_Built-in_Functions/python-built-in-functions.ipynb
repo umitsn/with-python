{
 "cells": [
  {
   "cell_type": "markdown",
   "metadata": {},
   "source": [
    "- **abs**\n",
    "- **all**\n",
    "- **any**\n",
    "- **ascii**"
   ]
  },
  {
   "cell_type": "markdown",
   "metadata": {},
   "source": [
    "- **abs**\n",
    "    - Negatif bir sayının ya da bir karmaşık sayının mutlak değerini döndürür."
   ]
  },
  {
   "cell_type": "code",
   "execution_count": 6,
   "metadata": {},
   "outputs": [
    {
     "data": {
      "text/plain": [
       "9.219544457292887"
      ]
     },
     "execution_count": 6,
     "metadata": {},
     "output_type": "execute_result"
    }
   ],
   "source": [
    "abs(6+7j)"
   ]
  },
  {
   "cell_type": "markdown",
   "metadata": {},
   "source": [
    "- **all**\n",
    "    - Yinelenebilir yapıdaki bütün elemanlar True ya da 1 ise True\\\n",
    "    değilse False sonucu döndürür."
   ]
  },
  {
   "cell_type": "code",
   "execution_count": 1,
   "metadata": {},
   "outputs": [
    {
     "data": {
      "text/plain": [
       "False"
      ]
     },
     "execution_count": 1,
     "metadata": {},
     "output_type": "execute_result"
    }
   ],
   "source": [
    "list1 = [1,1]\n",
    "set1 = {1,0}\n",
    "tupl1 = (1,1,1,False)\n",
    "\n",
    "all(tupl1)"
   ]
  },
  {
   "cell_type": "markdown",
   "metadata": {},
   "source": [
    "- **any**\n",
    "    * Yinelenebilir bir yapının herhangi bir elemanı 1 ya da True ise True,\\\n",
    "    değilse False sonucunu döndürür."
   ]
  },
  {
   "cell_type": "code",
   "execution_count": 16,
   "metadata": {},
   "outputs": [
    {
     "data": {
      "text/plain": [
       "True"
      ]
     },
     "execution_count": 16,
     "metadata": {},
     "output_type": "execute_result"
    }
   ],
   "source": [
    "list1 = [0,0,False]\n",
    "set1 = {1,0}\n",
    "tupl1 = (1,1,1,False)\n",
    "dict1 = {0:\"a\",1:\"b\"}\n",
    "\n",
    "any(dict1)"
   ]
  },
  {
   "cell_type": "markdown",
   "metadata": {},
   "source": [
    "- **ascii**\n",
    "    - Liste, küme, tupl gibi yinelenebilir yapıdaki\\\n",
    "    ASCII olmayan karakerleri kaçış karakterleriyle değiştirir."
   ]
  },
  {
   "cell_type": "code",
   "execution_count": 9,
   "metadata": {},
   "outputs": [
    {
     "data": {
      "text/plain": [
       "\"['\\\\xdc', '\\\\u015e', '\\\\xc7', '\\\\u011e', '\\\\u011f', '\\\\xf6']\""
      ]
     },
     "execution_count": 9,
     "metadata": {},
     "output_type": "execute_result"
    }
   ],
   "source": [
    "txt = \"Ümit\"\n",
    "list1 = [\"Ü\",\"Ş\",\"Ç\",\"Ğ\",\"ğ\",\"ö\"]\n",
    "\n",
    "ascii(list1)"
   ]
  },
  {
   "cell_type": "code",
   "execution_count": null,
   "metadata": {},
   "outputs": [],
   "source": []
  }
 ],
 "metadata": {
  "kernelspec": {
   "display_name": "Python 3",
   "language": "python",
   "name": "python3"
  },
  "language_info": {
   "codemirror_mode": {
    "name": "ipython",
    "version": 3
   },
   "file_extension": ".py",
   "mimetype": "text/x-python",
   "name": "python",
   "nbconvert_exporter": "python",
   "pygments_lexer": "ipython3",
   "version": "3.12.0"
  }
 },
 "nbformat": 4,
 "nbformat_minor": 2
}
