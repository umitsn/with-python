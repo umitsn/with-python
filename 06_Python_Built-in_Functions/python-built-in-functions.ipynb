{
 "cells": [
  {
   "cell_type": "markdown",
   "metadata": {},
   "source": [
    "- **abs**\n",
    "- **all**\n",
    "- **any**\n",
    "- **ascii**\n",
    "- **bin**\n",
    "- **bool**\n",
    "- **bytearray**\n",
    "- **bytes**\n",
    "- **callable**\n",
    "- **chr**\n",
    "- **classmethod**\n",
    "- **compile**\n",
    "- **complex**\n",
    "- **delattr**\n",
    "- **dict**\n",
    "- **dir**\n",
    "- **divmod**\n",
    "- **eval**\n",
    "- **enumerate**\n",
    "- **exec**\n",
    "- **filter**\n",
    "- **float**\n",
    "- **format**\n",
    "- **frozenset**\n",
    "- **getattr**\n",
    "- **globals**\n",
    "- **hasattr**\n",
    "- **hash**\n",
    "- **help**\n",
    "- **hex**\n",
    "- **id**\n",
    "- **input**"
   ]
  },
  {
   "cell_type": "markdown",
   "metadata": {},
   "source": [
    "- **abs**\n",
    "    - Negatif bir sayının ya da bir karmaşık sayının mutlak değerini döndürür."
   ]
  },
  {
   "cell_type": "code",
   "execution_count": 6,
   "metadata": {},
   "outputs": [
    {
     "data": {
      "text/plain": [
       "9.219544457292887"
      ]
     },
     "execution_count": 6,
     "metadata": {},
     "output_type": "execute_result"
    }
   ],
   "source": [
    "abs(6+7j)"
   ]
  },
  {
   "cell_type": "markdown",
   "metadata": {},
   "source": [
    "- **all**\n",
    "    - Yinelenebilir yapıdaki bütün elemanlar True ya da 1 ise True\\\n",
    "    değilse False sonucu döndürür."
   ]
  },
  {
   "cell_type": "code",
   "execution_count": 1,
   "metadata": {},
   "outputs": [
    {
     "data": {
      "text/plain": [
       "False"
      ]
     },
     "execution_count": 1,
     "metadata": {},
     "output_type": "execute_result"
    }
   ],
   "source": [
    "list1 = [1,1]\n",
    "set1 = {1,0}\n",
    "tupl1 = (1,1,1,False)\n",
    "\n",
    "all(tupl1)"
   ]
  },
  {
   "cell_type": "markdown",
   "metadata": {},
   "source": [
    "- **any**\n",
    "    * Yinelenebilir bir yapının herhangi bir elemanı 1 ya da True ise True,\\\n",
    "    değilse False sonucunu döndürür."
   ]
  },
  {
   "cell_type": "code",
   "execution_count": 3,
   "metadata": {},
   "outputs": [
    {
     "data": {
      "text/plain": [
       "False"
      ]
     },
     "execution_count": 3,
     "metadata": {},
     "output_type": "execute_result"
    }
   ],
   "source": [
    "list1 = [0,0,False]\n",
    "set1 = {False,0}\n",
    "tupl1 = (1,1,1,False)\n",
    "dict1 = {0:\"a\",1:\"b\"}\n",
    "\n",
    "any(set1)"
   ]
  },
  {
   "cell_type": "markdown",
   "metadata": {},
   "source": [
    "- **ascii**\n",
    "    - Liste, küme, tupl gibi yinelenebilir yapıdaki\\\n",
    "    ASCII olmayan karakerleri kaçış karakterleriyle değiştirir."
   ]
  },
  {
   "cell_type": "code",
   "execution_count": 9,
   "metadata": {},
   "outputs": [
    {
     "data": {
      "text/plain": [
       "\"['\\\\xdc', '\\\\u015e', '\\\\xc7', '\\\\u011e', '\\\\u011f', '\\\\xf6']\""
      ]
     },
     "execution_count": 9,
     "metadata": {},
     "output_type": "execute_result"
    }
   ],
   "source": [
    "txt = \"Ümit\"\n",
    "list1 = [\"Ü\",\"Ş\",\"Ç\",\"Ğ\",\"ğ\",\"ö\"]\n",
    "\n",
    "ascii(list1)"
   ]
  },
  {
   "cell_type": "markdown",
   "metadata": {},
   "source": [
    "- **bin**\n",
    "    - Bir tam sayının ikilik sayı sistemindeki değerini döndürür.\\\n",
    "    Sonuç 0b ile başlar. Girilen ifade tam sayı değilse hata değeri\\\n",
    "    döndürür.\n"
   ]
  },
  {
   "cell_type": "code",
   "execution_count": 5,
   "metadata": {},
   "outputs": [
    {
     "data": {
      "text/plain": [
       "'0b101000'"
      ]
     },
     "execution_count": 5,
     "metadata": {},
     "output_type": "execute_result"
    }
   ],
   "source": [
    "bin(40)"
   ]
  },
  {
   "cell_type": "markdown",
   "metadata": {},
   "source": [
    "- **bool**\n",
    "    - None,Boş yapı,0 ya da False ise False\n",
    "        - Boş yapı [],(),{} olabilir.\n",
    "    - String, 0 hariç herhanbi bir sayı ya da True ise True\n",
    "    değeri döndürür.\n"
   ]
  },
  {
   "cell_type": "code",
   "execution_count": 13,
   "metadata": {},
   "outputs": [
    {
     "name": "stdout",
     "output_type": "stream",
     "text": [
      "False True True True\n"
     ]
    }
   ],
   "source": [
    "a = bool(None)\n",
    "b = bool(\"umit\")\n",
    "c=bool({0})\n",
    "d=bool(0.1)\n",
    "print(a,b,c,d)"
   ]
  },
  {
   "cell_type": "markdown",
   "metadata": {},
   "source": [
    "- **bytearray**\n",
    "    - Nesneleri bytearray nesnesine çevirir.\\\n",
    "    Belirtilen boyutta boş bytearray nesnesi oluşturabilir."
   ]
  },
  {
   "cell_type": "code",
   "execution_count": 11,
   "metadata": {},
   "outputs": [
    {
     "data": {
      "text/plain": [
       "bytearray(b'\\x00\\x00\\x00\\x00\\x00')"
      ]
     },
     "execution_count": 11,
     "metadata": {},
     "output_type": "execute_result"
    }
   ],
   "source": [
    "a = bytearray(5)\n",
    "a"
   ]
  },
  {
   "cell_type": "markdown",
   "metadata": {},
   "source": [
    "- **bytes**\n",
    "    - bytearray ile aynı işlevi görür.\\\n",
    "    Fakat bytes ile oluşturulan nesne değiştirilemez."
   ]
  },
  {
   "cell_type": "code",
   "execution_count": 4,
   "metadata": {},
   "outputs": [
    {
     "data": {
      "text/plain": [
       "b'\\x01\\x05'"
      ]
     },
     "execution_count": 4,
     "metadata": {},
     "output_type": "execute_result"
    }
   ],
   "source": [
    "a =  bytes({1,5})\n",
    "a"
   ]
  },
  {
   "cell_type": "markdown",
   "metadata": {},
   "source": [
    "- **callable**\n",
    "    - Bir nesnenin çağırılabilir olup olmadığını kontrol eder.\n",
    "    - Değişkenler çağırılabilir değildir. Fonksiyonlar çağırılabilir nesnelere örnek verilebilir."
   ]
  },
  {
   "cell_type": "code",
   "execution_count": 8,
   "metadata": {},
   "outputs": [
    {
     "data": {
      "text/plain": [
       "True"
      ]
     },
     "execution_count": 8,
     "metadata": {},
     "output_type": "execute_result"
    }
   ],
   "source": [
    "def p():\n",
    "    print(\"python\")\n",
    "\n",
    "num = 10\n",
    "callable(print)"
   ]
  },
  {
   "cell_type": "markdown",
   "metadata": {},
   "source": [
    "- **chr**\n",
    "    - Bir sayının karakter karşılığını verir."
   ]
  },
  {
   "cell_type": "code",
   "execution_count": 7,
   "metadata": {},
   "outputs": [
    {
     "data": {
      "text/plain": [
       "'r'"
      ]
     },
     "execution_count": 7,
     "metadata": {},
     "output_type": "execute_result"
    }
   ],
   "source": [
    "chr(114)"
   ]
  },
  {
   "cell_type": "markdown",
   "metadata": {},
   "source": [
    "- **classmethod**\n",
    "    - Bir fonksiyonu sınıf yapısına döndürür."
   ]
  },
  {
   "cell_type": "code",
   "execution_count": 13,
   "metadata": {},
   "outputs": [
    {
     "data": {
      "text/plain": [
       "function"
      ]
     },
     "execution_count": 13,
     "metadata": {},
     "output_type": "execute_result"
    }
   ],
   "source": [
    "@classmethod\n",
    "def func(a,b):\n",
    "    return a+b\n",
    "\n"
   ]
  },
  {
   "cell_type": "markdown",
   "metadata": {},
   "source": [
    "- **compile**\n",
    "    - Metin halindeki kodu çalıştırır."
   ]
  },
  {
   "cell_type": "code",
   "execution_count": 16,
   "metadata": {},
   "outputs": [
    {
     "name": "stdout",
     "output_type": "stream",
     "text": [
      "umit sen 40\n"
     ]
    }
   ],
   "source": [
    "txt = \"print('umit sen',5*8)\"\n",
    "a =  compile(txt,'test','eval')\n",
    "exec(a)"
   ]
  },
  {
   "cell_type": "markdown",
   "metadata": {},
   "source": [
    "- **complex**\n",
    "    - complex(real, imaginary)\n",
    "    - reel ve sanal kısmı girilen sayıyı kompleks sayıya dönüştürür."
   ]
  },
  {
   "cell_type": "code",
   "execution_count": 8,
   "metadata": {},
   "outputs": [
    {
     "data": {
      "text/plain": [
       "(2+9j)"
      ]
     },
     "execution_count": 8,
     "metadata": {},
     "output_type": "execute_result"
    }
   ],
   "source": [
    "a = complex(\"2+9j\")\n",
    "a"
   ]
  },
  {
   "cell_type": "markdown",
   "metadata": {},
   "source": [
    "- **delattr**\n",
    "    - Bir nesneden belirtilen bir özellik ya da yöntemi siler."
   ]
  },
  {
   "cell_type": "code",
   "execution_count": 5,
   "metadata": {},
   "outputs": [
    {
     "ename": "AttributeError",
     "evalue": "type object 'MyClass' has no attribute 'x'",
     "output_type": "error",
     "traceback": [
      "\u001b[0;31m---------------------------------------------------------------------------\u001b[0m",
      "\u001b[0;31mAttributeError\u001b[0m                            Traceback (most recent call last)",
      "Cell \u001b[0;32mIn[5], line 7\u001b[0m\n\u001b[1;32m      4\u001b[0m     age \u001b[38;5;241m=\u001b[39m \u001b[38;5;241m40\u001b[39m\n\u001b[1;32m      6\u001b[0m \u001b[38;5;28mdelattr\u001b[39m(MyClass,\u001b[38;5;124m'\u001b[39m\u001b[38;5;124mx\u001b[39m\u001b[38;5;124m'\u001b[39m)\n\u001b[0;32m----> 7\u001b[0m \u001b[38;5;28mprint\u001b[39m(\u001b[43mMyClass\u001b[49m\u001b[38;5;241;43m.\u001b[39;49m\u001b[43mx\u001b[49m)\n",
      "\u001b[0;31mAttributeError\u001b[0m: type object 'MyClass' has no attribute 'x'"
     ]
    }
   ],
   "source": [
    "class MyClass:\n",
    "    x = 3\n",
    "    y = 10\n",
    "    age = 40\n",
    "\n",
    "delattr(MyClass,'x')\n",
    "print(MyClass.x)"
   ]
  },
  {
   "cell_type": "markdown",
   "metadata": {},
   "source": [
    "- **dict**\n",
    "    - Liste, demet(tupl) gibi yinelenebilir yapılardaki anahtar ve değer\\\n",
    "    içeren ifaleri sözlük yapısına çevirir "
   ]
  },
  {
   "cell_type": "code",
   "execution_count": 26,
   "metadata": {},
   "outputs": [
    {
     "data": {
      "text/plain": [
       "{'c': 'Python', 'a': 1, 'b': '2'}"
      ]
     },
     "execution_count": 26,
     "metadata": {},
     "output_type": "execute_result"
    }
   ],
   "source": [
    "p1 = [(\"a\",1),(\"b\",2),(\"c\",\"3\")]\n",
    "p2 = ((\"k\",3),(\"l\",\"Python\"))\n",
    "\n",
    "dict([(\"c\",\"Python\")],a=1,b=\"2\")"
   ]
  },
  {
   "cell_type": "markdown",
   "metadata": {},
   "source": [
    "- **dir**\n",
    "    - Bir nesnenin içeriğini (yöntemlerini, özelliklerini vs) gösterir."
   ]
  },
  {
   "cell_type": "code",
   "execution_count": 22,
   "metadata": {},
   "outputs": [
    {
     "name": "stdout",
     "output_type": "stream",
     "text": [
      "['acos', 'acosh', 'asin', 'asinh', 'atan', 'atan2', 'atanh', 'cbrt', 'ceil', 'comb', 'copysign', 'cos', 'cosh', 'degrees', 'dist', 'e', 'erf', 'erfc', 'exp', 'exp2', 'expm1', 'fabs', 'factorial', 'floor', 'fmod', 'frexp', 'fsum', 'gamma', 'gcd', 'hypot', 'inf', 'isclose', 'isfinite', 'isinf', 'isnan', 'isqrt', 'lcm', 'ldexp', 'lgamma', 'log', 'log10', 'log1p', 'log2', 'modf', 'nan', 'nextafter', 'perm', 'pi', 'pow', 'prod', 'radians', 'remainder', 'sin', 'sinh', 'sqrt', 'sumprod', 'tan', 'tanh', 'tau', 'trunc', 'ulp']\n"
     ]
    }
   ],
   "source": [
    "import math\n",
    "\n",
    "class MyClass:\n",
    "    x = 3\n",
    "    y = 10\n",
    "    age = 40\n",
    "    \n",
    "A = [i for i in dir(math) if \"_\" not in i]\n",
    "print(A)"
   ]
  },
  {
   "cell_type": "markdown",
   "metadata": {},
   "source": [
    "- **divmod**\n",
    "    - Bir sayının diğer bir sayıya bölümüyle oluşan bölüm ve kalan değerlerini verir."
   ]
  },
  {
   "cell_type": "code",
   "execution_count": 31,
   "metadata": {},
   "outputs": [
    {
     "data": {
      "text/plain": [
       "(6, 2)"
      ]
     },
     "execution_count": 31,
     "metadata": {},
     "output_type": "execute_result"
    }
   ],
   "source": [
    "#15 = 2*a+b\n",
    "a = 15//2\n",
    "b = 15%2\n",
    "a,b\n",
    "divmod(20,3)"
   ]
  },
  {
   "cell_type": "markdown",
   "metadata": {},
   "source": [
    "- **eval**\n",
    "    - String bir ifadeyi bilgisayar tarafından çalıştırılabilir hale getirir."
   ]
  },
  {
   "cell_type": "code",
   "execution_count": 3,
   "metadata": {},
   "outputs": [
    {
     "data": {
      "text/plain": [
       "['merhaba']"
      ]
     },
     "execution_count": 3,
     "metadata": {},
     "output_type": "execute_result"
    }
   ],
   "source": [
    "a = 5\n",
    "b = 10\n",
    "str1 = \"2*a+3*b\"\n",
    "eval(str1)\n",
    "\n",
    "eval(\"open('deneme.txt','w').write('merhaba')\")\n",
    "eval(\"open('deneme.txt','r').readlines()\")"
   ]
  },
  {
   "cell_type": "markdown",
   "metadata": {},
   "source": [
    "- **enumerate**\n",
    "    - Liste, tupl gibi bir yapıdaki her bir elemanı ardışık olarak bir sayıyla eşleştirir."
   ]
  },
  {
   "cell_type": "code",
   "execution_count": 40,
   "metadata": {},
   "outputs": [
    {
     "name": "stdout",
     "output_type": "stream",
     "text": [
      "[(0, 'elma'), (1, 'armut'), (2, 'kiraz')]\n",
      "[(0, 'M'), (1, 'e'), (2, 'r'), (3, 'h'), (4, 'a'), (5, 'b'), (6, 'a'), (7, '.'), (8, ' ')]\n",
      "[(5, 'a'), (6, 'b'), (7, 'c'), (8, 'd')]\n"
     ]
    }
   ],
   "source": [
    "e1 = (\"a\",\"b\",\"c\",\"d\")\n",
    "e2 = [\"elma\",\"armut\",\"kiraz\"]\n",
    "e3 = \"Merhaba. \"\n",
    "\n",
    "print(list(enumerate(e2)))\n",
    "print(list(enumerate(e3)))\n",
    "print(list(enumerate(e1,5)))"
   ]
  },
  {
   "cell_type": "markdown",
   "metadata": {},
   "source": []
  },
  {
   "cell_type": "markdown",
   "metadata": {},
   "source": []
  },
  {
   "cell_type": "markdown",
   "metadata": {},
   "source": [
    "- **exec**\n",
    "    - eval fonksiyonuna benzer işi yapar."
   ]
  },
  {
   "cell_type": "code",
   "execution_count": 38,
   "metadata": {},
   "outputs": [
    {
     "name": "stdout",
     "output_type": "stream",
     "text": [
      "[(0, 'elma'), (1, 'armut'), (2, 'kiraz')]\n",
      "[(0, 'M'), (1, 'e'), (2, 'r'), (3, 'h'), (4, 'a'), (5, 'b'), (6, 'a'), (7, '.'), (8, ' ')]\n",
      "[(7, 'a'), (8, 'b'), (9, 'c'), (10, 'd')]\n"
     ]
    }
   ],
   "source": [
    "str1 = \"\"\"dosya = open('exec-deneme.txt','w')\n",
    "dosya.write('exec deneme satır 1\\\\n')\n",
    "dosya.write('exec deneme satır 2')\n",
    "dosya.close()\n",
    "print(open('exec-deneme.txt','r').readlines())\"\"\"\n",
    "\n",
    "str2 = \"\"\"e1 = (\"a\",\"b\",\"c\",\"d\")\n",
    "e2 = [\"elma\",\"armut\",\"kiraz\"]\n",
    "e3 = \"Merhaba. \"\n",
    "print(list(enumerate(e2)))\n",
    "print(list(enumerate(e3)))\n",
    "print(list(enumerate(e1,7)))\n",
    "\"\"\"\n",
    "exec(str2)"
   ]
  },
  {
   "cell_type": "markdown",
   "metadata": {},
   "source": []
  },
  {
   "cell_type": "markdown",
   "metadata": {},
   "source": []
  },
  {
   "cell_type": "markdown",
   "metadata": {},
   "source": [
    "- **filter**"
   ]
  },
  {
   "cell_type": "code",
   "execution_count": 72,
   "metadata": {},
   "outputs": [
    {
     "data": {
      "text/plain": [
       "['e', 'a', 'a', 'u', 'i', 'o', 'ö', 'e', 'i', 'i']"
      ]
     },
     "execution_count": 72,
     "metadata": {},
     "output_type": "execute_result"
    }
   ],
   "source": [
    "list1 = [1,2,3,4,5,6,7,8,9,10,11]\n",
    "def func1(n):\n",
    "    if n % 4 == 1:\n",
    "        return True\n",
    "\n",
    "str1 = \"Merhaba, bu bir Python örneğidir.\"\n",
    "def func2(n):\n",
    "    return [i for i in n if i in [\"a\",\"e\",\"ı\",\"i\",\"o\",\"ö\",\"u\",\"ü\"]]\n",
    "\n",
    "\n",
    "#list(filter(func1,list1))\n",
    "list(filter(func2,str1))"
   ]
  },
  {
   "cell_type": "markdown",
   "metadata": {},
   "source": [
    "- **float**"
   ]
  },
  {
   "cell_type": "code",
   "execution_count": 38,
   "metadata": {},
   "outputs": [
    {
     "name": "stdout",
     "output_type": "stream",
     "text": [
      "2.7 5.0 13.0\n"
     ]
    }
   ],
   "source": [
    "f1 = float(\"2.7\")\n",
    "f2 = float(5)\n",
    "f3 = float(\"13\")\n",
    "\n",
    "print(f1,f2,f3)"
   ]
  },
  {
   "cell_type": "markdown",
   "metadata": {},
   "source": [
    "- **format 1**"
   ]
  },
  {
   "cell_type": "code",
   "execution_count": 71,
   "metadata": {},
   "outputs": [
    {
     "name": "stdout",
     "output_type": "stream",
     "text": [
      "12,345,678,900\n",
      "12_345_678_900\n"
     ]
    }
   ],
   "source": [
    "e1 = format(12345678900,\",\")\n",
    "e2 = format(12345678900,'_')\n",
    "\n",
    "print(e1)\n",
    "print(e2)"
   ]
  },
  {
   "cell_type": "markdown",
   "metadata": {},
   "source": [
    "- **format 2**"
   ]
  },
  {
   "cell_type": "code",
   "execution_count": 48,
   "metadata": {},
   "outputs": [
    {
     "name": "stdout",
     "output_type": "stream",
     "text": [
      "-------------------deneme\n",
      "denemeeeeeeeeee\n",
      "....deneme.....\n"
     ]
    }
   ],
   "source": [
    "e1 = format(\"deneme\",'->25')\n",
    "e2 = format(\"deneme\",'e<15')\n",
    "e3 = format(\"deneme\",'.^15')\n",
    "\n",
    "print(e1)\n",
    "print(e2)\n",
    "print(e3)"
   ]
  },
  {
   "cell_type": "markdown",
   "metadata": {},
   "source": [
    "- **format**"
   ]
  },
  {
   "cell_type": "code",
   "execution_count": 34,
   "metadata": {},
   "outputs": [
    {
     "name": "stdout",
     "output_type": "stream",
     "text": [
      "00001.235 1.2345600\n"
     ]
    }
   ],
   "source": [
    "e1 = format(1.23456,'0>9.3f')\n",
    "e2 = format(1.23456,'.7f')\n",
    "print(e1,e2)"
   ]
  },
  {
   "cell_type": "markdown",
   "metadata": {},
   "source": [
    "- **format**"
   ]
  },
  {
   "cell_type": "code",
   "execution_count": 22,
   "metadata": {},
   "outputs": [
    {
     "name": "stdout",
     "output_type": "stream",
     "text": [
      "11111111 377 ff\n"
     ]
    }
   ],
   "source": [
    "e1 = format(255,'b') #binary \n",
    "e2 = format(255,'o') #octal\n",
    "e3 = format(255,'x') #hex\n",
    "\n",
    "print(e1,e2,e3)"
   ]
  },
  {
   "cell_type": "markdown",
   "metadata": {},
   "source": [
    "- **frozenset**\n",
    "    - list, set, tuple, string vs."
   ]
  },
  {
   "cell_type": "code",
   "execution_count": 22,
   "metadata": {},
   "outputs": [
    {
     "ename": "AttributeError",
     "evalue": "'frozenset' object has no attribute 'split'",
     "output_type": "error",
     "traceback": [
      "\u001b[0;31m---------------------------------------------------------------------------\u001b[0m",
      "\u001b[0;31mAttributeError\u001b[0m                            Traceback (most recent call last)",
      "Cell \u001b[0;32mIn[22], line 2\u001b[0m\n\u001b[1;32m      1\u001b[0m txt \u001b[38;5;241m=\u001b[39m \u001b[38;5;28mfrozenset\u001b[39m(\u001b[38;5;124m\"\u001b[39m\u001b[38;5;124mMerhaba, ben Ümit.\u001b[39m\u001b[38;5;124m\"\u001b[39m)\n\u001b[0;32m----> 2\u001b[0m \u001b[38;5;28mprint\u001b[39m(\u001b[43mtxt\u001b[49m\u001b[38;5;241;43m.\u001b[39;49m\u001b[43msplit\u001b[49m())\n",
      "\u001b[0;31mAttributeError\u001b[0m: 'frozenset' object has no attribute 'split'"
     ]
    }
   ],
   "source": [
    "txt = frozenset(\"Merhaba, ben Ümit.\")\n",
    "print(txt.split())"
   ]
  },
  {
   "cell_type": "markdown",
   "metadata": {},
   "source": [
    "- **frozenset**\n",
    "    - list, set, tuple, string vs."
   ]
  },
  {
   "cell_type": "code",
   "execution_count": 19,
   "metadata": {},
   "outputs": [
    {
     "ename": "AttributeError",
     "evalue": "'frozenset' object has no attribute 'append'",
     "output_type": "error",
     "traceback": [
      "\u001b[0;31m---------------------------------------------------------------------------\u001b[0m",
      "\u001b[0;31mAttributeError\u001b[0m                            Traceback (most recent call last)",
      "Cell \u001b[0;32mIn[19], line 3\u001b[0m\n\u001b[1;32m      1\u001b[0m liste \u001b[38;5;241m=\u001b[39m \u001b[38;5;28mfrozenset\u001b[39m([\u001b[38;5;124m\"\u001b[39m\u001b[38;5;124ma\u001b[39m\u001b[38;5;124m\"\u001b[39m,\u001b[38;5;124m\"\u001b[39m\u001b[38;5;124mb\u001b[39m\u001b[38;5;124m\"\u001b[39m,\u001b[38;5;124m\"\u001b[39m\u001b[38;5;124mc\u001b[39m\u001b[38;5;124m\"\u001b[39m])\n\u001b[0;32m----> 3\u001b[0m \u001b[43mliste\u001b[49m\u001b[38;5;241;43m.\u001b[39;49m\u001b[43mappend\u001b[49m(\u001b[38;5;124m\"\u001b[39m\u001b[38;5;124md\u001b[39m\u001b[38;5;124m\"\u001b[39m)\n\u001b[1;32m      4\u001b[0m \u001b[38;5;28mprint\u001b[39m(liste)\n",
      "\u001b[0;31mAttributeError\u001b[0m: 'frozenset' object has no attribute 'append'"
     ]
    }
   ],
   "source": [
    "liste = frozenset([\"a\",\"b\",\"c\"])\n",
    "\n",
    "liste.append(\"d\")\n",
    "print(liste)"
   ]
  },
  {
   "cell_type": "code",
   "execution_count": 2,
   "metadata": {},
   "outputs": [
    {
     "name": "stdout",
     "output_type": "stream",
     "text": [
      "Help on function topla in module __main__:\n",
      "\n",
      "topla(a, b)\n",
      "    Girilen iki sayıyı toplar\n",
      "\n"
     ]
    }
   ],
   "source": [
    "def topla(a,b):\n",
    "    \"\"\"Girilen iki sayıyı toplar\"\"\"\n",
    "    return a+b\n",
    "\n",
    "help(topla)"
   ]
  },
  {
   "cell_type": "markdown",
   "metadata": {},
   "source": [
    "- **getattr**"
   ]
  },
  {
   "cell_type": "code",
   "execution_count": 7,
   "metadata": {},
   "outputs": [
    {
     "name": "stdout",
     "output_type": "stream",
     "text": [
      "Umit\n",
      "12345\n",
      "Attribute not found\n"
     ]
    }
   ],
   "source": [
    "class Student:\n",
    "    name = \"Umit\"\n",
    "    no = 12345\n",
    "\n",
    "name = getattr(Student,'name')\n",
    "no   = getattr(Student,'no')\n",
    "age  = getattr(Student,'age','Attribute not found')\n",
    "\n",
    "print(name)\n",
    "print(no)\n",
    "print(age)"
   ]
  },
  {
   "cell_type": "markdown",
   "metadata": {},
   "source": [
    "- **globals**\n",
    "    - dosya adı, yolu, içinde tanımlanan değişkenler vb."
   ]
  },
  {
   "cell_type": "code",
   "execution_count": 6,
   "metadata": {},
   "outputs": [
    {
     "name": "stdout",
     "output_type": "stream",
     "text": [
      "{'__name__': '__main__', '__doc__': 'Automatically created module for IPython interactive environment', '__package__': None, '__loader__': None, '__spec__': None, '__builtin__': <module 'builtins' (built-in)>, '__builtins__': <module 'builtins' (built-in)>, '_ih': ['', 'x =  range(0,10)\\nglobals()[\"x\"]', 'x =  list(range(0,10))\\nglobals()[\"x\"]', 'x = list(range(0,10))\\nglobals()', 'x = list(range(0,10))\\nglobals()[\"__main__\"]', 'x = list(range(0,10))\\nglobals()', 'x = list(range(0,10))\\ny = [\"a\",\"b\",\"c\",\"d\"]\\nprint(globals())\\nprint(globals()[\"x\"])'], '_oh': {1: range(0, 10), 2: [0, 1, 2, 3, 4, 5, 6, 7, 8, 9], 3: {...}, 5: {...}}, '_dh': [PosixPath('/Users/umitsen/Desktop/youtube-videos/python/06_all_built-in_functions')], 'In': ['', 'x =  range(0,10)\\nglobals()[\"x\"]', 'x =  list(range(0,10))\\nglobals()[\"x\"]', 'x = list(range(0,10))\\nglobals()', 'x = list(range(0,10))\\nglobals()[\"__main__\"]', 'x = list(range(0,10))\\nglobals()', 'x = list(range(0,10))\\ny = [\"a\",\"b\",\"c\",\"d\"]\\nprint(globals())\\nprint(globals()[\"x\"])'], 'Out': {1: range(0, 10), 2: [0, 1, 2, 3, 4, 5, 6, 7, 8, 9], 3: {...}, 5: {...}}, 'get_ipython': <bound method InteractiveShell.get_ipython of <ipykernel.zmqshell.ZMQInteractiveShell object at 0x1081f8620>>, 'exit': <IPython.core.autocall.ZMQExitAutocall object at 0x107867800>, 'quit': <IPython.core.autocall.ZMQExitAutocall object at 0x107867800>, 'open': <function open at 0x107089260>, '_': {...}, '__': {...}, '___': [0, 1, 2, 3, 4, 5, 6, 7, 8, 9], '__vsc_ipynb_file__': '/Users/umitsen/Desktop/youtube-videos/python/06_all_built-in_functions/python-built-in-functions.ipynb', '_i': 'x = list(range(0,10))\\nglobals()', '_ii': 'x = list(range(0,10))\\nglobals()[\"__main__\"]', '_iii': 'x = list(range(0,10))\\nglobals()', '_i1': 'x =  range(0,10)\\nglobals()[\"x\"]', 'x': [0, 1, 2, 3, 4, 5, 6, 7, 8, 9], '_1': range(0, 10), '_i2': 'x =  list(range(0,10))\\nglobals()[\"x\"]', '_2': [0, 1, 2, 3, 4, 5, 6, 7, 8, 9], '_i3': 'x = list(range(0,10))\\nglobals()', '_3': {...}, '_i4': 'x = list(range(0,10))\\nglobals()[\"__main__\"]', '_i5': 'x = list(range(0,10))\\nglobals()', '_5': {...}, '_i6': 'x = list(range(0,10))\\ny = [\"a\",\"b\",\"c\",\"d\"]\\nprint(globals())\\nprint(globals()[\"x\"])', 'y': ['a', 'b', 'c', 'd']}\n",
      "[0, 1, 2, 3, 4, 5, 6, 7, 8, 9]\n"
     ]
    }
   ],
   "source": [
    "x = list(range(0,10))\n",
    "y = [\"a\",\"b\",\"c\",\"d\"]\n",
    "print(globals())\n",
    "print(globals()[\"x\"])"
   ]
  },
  {
   "cell_type": "markdown",
   "metadata": {},
   "source": [
    "- **hasattr**"
   ]
  },
  {
   "cell_type": "code",
   "execution_count": 4,
   "metadata": {},
   "outputs": [
    {
     "name": "stdout",
     "output_type": "stream",
     "text": [
      "True\n",
      "False\n"
     ]
    }
   ],
   "source": [
    "class Student:\n",
    "    name = \"Umit\"\n",
    "    no = 12345\n",
    "\n",
    "print(hasattr(Student,'name'))\n",
    "print(hasattr(Student,'age'))"
   ]
  },
  {
   "cell_type": "markdown",
   "metadata": {},
   "source": [
    "- **hash**"
   ]
  },
  {
   "cell_type": "code",
   "execution_count": 6,
   "metadata": {},
   "outputs": [
    {
     "name": "stdout",
     "output_type": "stream",
     "text": [
      "Class :  309232727\n",
      "String :  5613321716154154476\n",
      "Tupple :  590899387183067792\n"
     ]
    },
    {
     "ename": "TypeError",
     "evalue": "unhashable type: 'list'",
     "output_type": "error",
     "traceback": [
      "\u001b[0;31m---------------------------------------------------------------------------\u001b[0m",
      "\u001b[0;31mTypeError\u001b[0m                                 Traceback (most recent call last)",
      "Cell \u001b[0;32mIn[6], line 12\u001b[0m\n\u001b[1;32m     10\u001b[0m \u001b[38;5;28mprint\u001b[39m(\u001b[38;5;124m\"\u001b[39m\u001b[38;5;124mString : \u001b[39m\u001b[38;5;124m\"\u001b[39m,\u001b[38;5;28mstr\u001b[39m(\u001b[38;5;28mhash\u001b[39m(str1)))\n\u001b[1;32m     11\u001b[0m \u001b[38;5;28mprint\u001b[39m(\u001b[38;5;124m\"\u001b[39m\u001b[38;5;124mTupple : \u001b[39m\u001b[38;5;124m\"\u001b[39m,\u001b[38;5;28mstr\u001b[39m(\u001b[38;5;28mhash\u001b[39m(tpl1)))\n\u001b[0;32m---> 12\u001b[0m \u001b[38;5;28mprint\u001b[39m(\u001b[38;5;124m\"\u001b[39m\u001b[38;5;124mList : \u001b[39m\u001b[38;5;124m\"\u001b[39m,\u001b[38;5;28mstr\u001b[39m(\u001b[38;5;28;43mhash\u001b[39;49m\u001b[43m(\u001b[49m\u001b[43mlst1\u001b[49m\u001b[43m)\u001b[49m))\n",
      "\u001b[0;31mTypeError\u001b[0m: unhashable type: 'list'"
     ]
    }
   ],
   "source": [
    "class Student:\n",
    "    name = \"Umit\"\n",
    "    no = 12345\n",
    "\n",
    "str1 = \"Python\"\n",
    "tpl1 = (1,2,3,4)\n",
    "lst1  = [1,2,3,4]\n",
    "\n",
    "print(\"Class : \",str(hash(Student)))\n",
    "print(\"String : \",str(hash(str1)))\n",
    "print(\"Tupple : \",str(hash(tpl1)))\n",
    "print(\"List : \",str(hash(lst1)))"
   ]
  },
  {
   "cell_type": "markdown",
   "metadata": {},
   "source": [
    "- **help**"
   ]
  },
  {
   "cell_type": "code",
   "execution_count": 3,
   "metadata": {},
   "outputs": [
    {
     "name": "stdout",
     "output_type": "stream",
     "text": [
      "Help on built-in function print in module builtins:\n",
      "\n",
      "print(*args, sep=' ', end='\\n', file=None, flush=False)\n",
      "    Prints the values to a stream, or to sys.stdout by default.\n",
      "\n",
      "    sep\n",
      "      string inserted between values, default a space.\n",
      "    end\n",
      "      string appended after the last value, default a newline.\n",
      "    file\n",
      "      a file-like object (stream); defaults to the current sys.stdout.\n",
      "    flush\n",
      "      whether to forcibly flush the stream.\n",
      "\n"
     ]
    }
   ],
   "source": [
    "def topla(a,b):\n",
    "    \"\"\"Girilen iki sayıyı toplar.\"\"\"\n",
    "    return a+b\n",
    "\n",
    "help(print)"
   ]
  },
  {
   "cell_type": "markdown",
   "metadata": {},
   "source": [
    "- **hex**"
   ]
  },
  {
   "cell_type": "code",
   "execution_count": 24,
   "metadata": {},
   "outputs": [
    {
     "name": "stdout",
     "output_type": "stream",
     "text": [
      "0x3e8\n"
     ]
    }
   ],
   "source": [
    "a = hex(1000)\n",
    "print(a)"
   ]
  },
  {
   "cell_type": "markdown",
   "metadata": {},
   "source": [
    "- **id**"
   ]
  },
  {
   "cell_type": "code",
   "execution_count": 287,
   "metadata": {},
   "outputs": [
    {
     "name": "stdout",
     "output_type": "stream",
     "text": [
      "txt id :  4839815520\n",
      "list1 id :  4840069952\n",
      "tuple1 id :  4840111568\n",
      "integer1 id :  4396559848\n",
      "integer2 id :  4839234384\n",
      "float1 id :  4425309424\n"
     ]
    }
   ],
   "source": [
    "txt = \"Selam, ben Ümit.\"\n",
    "list1 = [1,2,3,4,5]\n",
    "tuple1 = (1,2,3,4)\n",
    "integer1 = 256\n",
    "integer2 = 257\n",
    "float1 = 1234.4\n",
    "\n",
    "print(\"txt id : \",id(txt))\n",
    "print(\"list1 id : \",id(list1))\n",
    "print(\"tuple1 id : \",id(tuple1))\n",
    "print(\"integer1 id : \",id(integer1))\n",
    "print(\"integer2 id : \",id(integer2))\n",
    "print(\"float1 id : \",id(float1))"
   ]
  },
  {
   "cell_type": "markdown",
   "metadata": {},
   "source": [
    "- **input**"
   ]
  },
  {
   "cell_type": "markdown",
   "metadata": {},
   "source": []
  },
  {
   "cell_type": "code",
   "execution_count": 11,
   "metadata": {},
   "outputs": [
    {
     "name": "stdout",
     "output_type": "stream",
     "text": [
      "88888\n",
      "40\n"
     ]
    }
   ],
   "source": [
    "x = input(\"Bir sayı gir : \") # ---> string\n",
    "print(5*x)      # strin \n",
    "print(5*int(x)) # number"
   ]
  },
  {
   "cell_type": "markdown",
   "metadata": {},
   "source": [
    "- **input**"
   ]
  },
  {
   "cell_type": "code",
   "execution_count": 13,
   "metadata": {},
   "outputs": [
    {
     "data": {
      "text/plain": [
       "3"
      ]
     },
     "execution_count": 13,
     "metadata": {},
     "output_type": "execute_result"
    }
   ],
   "source": [
    "int(3.5)"
   ]
  },
  {
   "cell_type": "code",
   "execution_count": null,
   "metadata": {},
   "outputs": [],
   "source": []
  }
 ],
 "metadata": {
  "kernelspec": {
   "display_name": "Python 3",
   "language": "python",
   "name": "python3"
  },
  "language_info": {
   "codemirror_mode": {
    "name": "ipython",
    "version": 3
   },
   "file_extension": ".py",
   "mimetype": "text/x-python",
   "name": "python",
   "nbconvert_exporter": "python",
   "pygments_lexer": "ipython3",
   "version": "3.12.0"
  }
 },
 "nbformat": 4,
 "nbformat_minor": 2
}
