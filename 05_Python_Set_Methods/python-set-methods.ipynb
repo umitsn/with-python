{
 "cells": [
  {
   "cell_type": "markdown",
   "metadata": {},
   "source": [
    "- **add**\n",
    "- **clear**\n",
    "- **copy**\n",
    "- **difference**\n",
    "- **difference_update**\n",
    "- **discard**\n",
    "- **intersection**\n",
    "- **intersection_update**\n",
    "- **isdisjoint**\n",
    "- **issubset**\n",
    "- **issuperset**\n",
    "- **pop**\n",
    "- **remove**\n",
    "- **symmetric_difference**\n",
    "- **symmetric_difference_update**\n",
    "- **union**\n",
    "- **update**"
   ]
  },
  {
   "cell_type": "markdown",
   "metadata": {},
   "source": [
    "- **add**\\\n",
    "Küme içine eleman ekler. Eleman kümede varsa eklemez."
   ]
  },
  {
   "cell_type": "code",
   "execution_count": 9,
   "metadata": {},
   "outputs": [
    {
     "name": "stdout",
     "output_type": "stream",
     "text": [
      "{'b', 'c', 'a'}\n",
      "{'d', 'b', 'c', 'a'}\n"
     ]
    }
   ],
   "source": [
    "set1 = {\"a\",\"b\",\"c\"}\n",
    "\n",
    "set1.add(\"a\")\n",
    "print(set1)\n",
    "set1.add(\"d\")\n",
    "print(set1)"
   ]
  },
  {
   "cell_type": "markdown",
   "metadata": {},
   "source": [
    "- **clear**\\\n",
    "Sözlükteki bütün elemanları siler. Boş küme için set() sonucunu döndürür."
   ]
  },
  {
   "cell_type": "code",
   "execution_count": 3,
   "metadata": {},
   "outputs": [
    {
     "data": {
      "text/plain": [
       "set()"
      ]
     },
     "execution_count": 3,
     "metadata": {},
     "output_type": "execute_result"
    }
   ],
   "source": [
    "set1 = {\"a\",\"b\",\"c\"}\n",
    "\n",
    "set1.clear()\n",
    "set1"
   ]
  },
  {
   "cell_type": "markdown",
   "metadata": {},
   "source": [
    "- **copy**\\\n",
    "Sözlüğün bir kopyasını oluşturur."
   ]
  },
  {
   "cell_type": "code",
   "execution_count": 4,
   "metadata": {},
   "outputs": [
    {
     "name": "stdout",
     "output_type": "stream",
     "text": [
      "{'a', 'c', 'b'}\n"
     ]
    }
   ],
   "source": [
    "set1 = {\"a\",\"b\",\"c\"}\n",
    "\n",
    "x = set1.copy()\n",
    "print(x)"
   ]
  },
  {
   "cell_type": "markdown",
   "metadata": {},
   "source": [
    "- **difference**\\\n",
    "Bir kümede olan diğer kümede olmayan elemanları gösterir.\\\n",
    "Sonuç boş küme ise set() sonucunu döndürür."
   ]
  },
  {
   "cell_type": "code",
   "execution_count": 7,
   "metadata": {},
   "outputs": [
    {
     "data": {
      "text/plain": [
       "set()"
      ]
     },
     "execution_count": 7,
     "metadata": {},
     "output_type": "execute_result"
    }
   ],
   "source": [
    "set1 = {\"a\",\"b\",\"c\",\"d\"}\n",
    "set2 = {\"e\",\"f\",\"a\",\"g\",\"c\"}\n",
    "\n",
    "set2.difference(set2)"
   ]
  },
  {
   "cell_type": "markdown",
   "metadata": {},
   "source": [
    "- **difference_update**\\\n",
    "Her iki kümede ortak olan elemanları kümeden kaldırır."
   ]
  },
  {
   "cell_type": "code",
   "execution_count": 9,
   "metadata": {},
   "outputs": [
    {
     "data": {
      "text/plain": [
       "{'e', 'f', 'g'}"
      ]
     },
     "execution_count": 9,
     "metadata": {},
     "output_type": "execute_result"
    }
   ],
   "source": [
    "set1 = {\"a\",\"b\",\"c\",\"d\"}\n",
    "set2 = {\"e\",\"f\",\"a\",\"g\",\"c\"}\n",
    "\n",
    "set2.difference_update(set1)\n",
    "set2"
   ]
  },
  {
   "cell_type": "markdown",
   "metadata": {},
   "source": [
    "- **discard**\n",
    "    - Kümeden bir elemanı kaldırır.\n",
    "    - Eleman kümede yoksa hata sonucu döndürmez."
   ]
  },
  {
   "cell_type": "code",
   "execution_count": 14,
   "metadata": {},
   "outputs": [
    {
     "data": {
      "text/plain": [
       "{'a', 'b', 'c', 'd'}"
      ]
     },
     "execution_count": 14,
     "metadata": {},
     "output_type": "execute_result"
    }
   ],
   "source": [
    "set1 = {\"a\",\"b\",\"c\",\"d\"}\n",
    "\n",
    "set1.discard(\"f\")\n",
    "set1"
   ]
  },
  {
   "cell_type": "markdown",
   "metadata": {},
   "source": [
    "- **intersection**\n",
    "    - İki kümede ortak olan elemanları küme olarak gösterir."
   ]
  },
  {
   "cell_type": "code",
   "execution_count": 19,
   "metadata": {},
   "outputs": [
    {
     "data": {
      "text/plain": [
       "{'a', 'c'}"
      ]
     },
     "execution_count": 19,
     "metadata": {},
     "output_type": "execute_result"
    }
   ],
   "source": [
    "set1 = {\"a\",\"b\",\"c\",\"d\"}\n",
    "set2 = {\"e\",\"f\",\"a\",\"g\",\"c\"}\n",
    "\n",
    "set1.intersection(set2)\n"
   ]
  },
  {
   "cell_type": "markdown",
   "metadata": {},
   "source": [
    "- **intersection_update**\n",
    "    * Kümelerdeki ortak olmayan elemanları kümeden kaldırır.\n",
    "    * Sadece ortak olan elemanları bir küme olarak gösterir.\n",
    "    * Aynı anda birden fazla küme karşılaştırılabilir."
   ]
  },
  {
   "cell_type": "code",
   "execution_count": 35,
   "metadata": {},
   "outputs": [
    {
     "data": {
      "text/plain": [
       "{'a', 'c'}"
      ]
     },
     "execution_count": 35,
     "metadata": {},
     "output_type": "execute_result"
    }
   ],
   "source": [
    "set1 = {\"a\",\"b\",\"c\",\"d\"}\n",
    "set2 = {\"e\",\"f\",\"a\",\"c\"}\n",
    "set3 = {\"g\",\"a\",\"c\",\"h\"}\n",
    "\n",
    "set1.intersection_update(set2,set3)\n",
    "set1"
   ]
  },
  {
   "cell_type": "markdown",
   "metadata": {},
   "source": [
    "- **isdisjoint**\n",
    "- - Her iki kümede de ortak eleman yoksa True\\\n",
    " ortak eleman bulunuyorsa False sonucunu döndürür."
   ]
  },
  {
   "cell_type": "code",
   "execution_count": 6,
   "metadata": {},
   "outputs": [
    {
     "data": {
      "text/plain": [
       "True"
      ]
     },
     "execution_count": 6,
     "metadata": {},
     "output_type": "execute_result"
    }
   ],
   "source": [
    "set1 = {\"a\",\"b\",\"c\"}\n",
    "set2 = {\"e\",\"f\",\"d\"}\n",
    "\n",
    "set1.isdisjoint(set2)"
   ]
  },
  {
   "cell_type": "markdown",
   "metadata": {},
   "source": [
    "- **issubset**\n",
    "    - Bir kümenin bütün elemanları diğer kümenin de elemanı ise True\\\n",
    "değilse False sonucunu döndürür."
   ]
  },
  {
   "cell_type": "code",
   "execution_count": 11,
   "metadata": {},
   "outputs": [
    {
     "data": {
      "text/plain": [
       "True"
      ]
     },
     "execution_count": 11,
     "metadata": {},
     "output_type": "execute_result"
    }
   ],
   "source": [
    "set1 = {\"a\",\"b\",\"c\"}\n",
    "set2 = {\"e\",\"f\",\"d\",\"a\",\"b\",\"c\"}\n",
    "\n",
    "set1.issubset(set2)"
   ]
  },
  {
   "cell_type": "markdown",
   "metadata": {},
   "source": [
    "- **issuperset**\n",
    "    - Bir küme, diğer kümenin tüm elemanlarını içeriyorsa True,\\\n",
    "    değilse False sonucunu döndürür.\n"
   ]
  },
  {
   "cell_type": "code",
   "execution_count": 15,
   "metadata": {},
   "outputs": [
    {
     "data": {
      "text/plain": [
       "False"
      ]
     },
     "execution_count": 15,
     "metadata": {},
     "output_type": "execute_result"
    }
   ],
   "source": [
    "set1 = {\"a\",\"e\",\"b\",\"f\",\"d\"}\n",
    "set2 = {\"a\",\"b\",\"c\"}\n",
    "\n",
    "set1.issuperset(set2)"
   ]
  },
  {
   "cell_type": "markdown",
   "metadata": {},
   "source": [
    "- **pop**\n",
    "    - Kümeden rastgele bir elemanı kaldırır."
   ]
  },
  {
   "cell_type": "code",
   "execution_count": 24,
   "metadata": {},
   "outputs": [
    {
     "name": "stdout",
     "output_type": "stream",
     "text": [
      "f\n",
      "{'a', 'd', 'e', 'b'}\n"
     ]
    }
   ],
   "source": [
    "set1 = {\"a\",\"e\",\"b\",\"f\",\"d\"}\n",
    "\n",
    "k = set1.pop()\n",
    "print(k)\n",
    "print(set1)"
   ]
  },
  {
   "cell_type": "markdown",
   "metadata": {},
   "source": [
    "- **remove**\n",
    "    - Belirtilen elemanı kümeden kaldırır.\n",
    "    Eleman kümede yoksa bir hata döndürür. "
   ]
  },
  {
   "cell_type": "code",
   "execution_count": 31,
   "metadata": {},
   "outputs": [
    {
     "ename": "KeyError",
     "evalue": "'bh'",
     "output_type": "error",
     "traceback": [
      "\u001b[0;31m---------------------------------------------------------------------------\u001b[0m",
      "\u001b[0;31mKeyError\u001b[0m                                  Traceback (most recent call last)",
      "Cell \u001b[0;32mIn[31], line 3\u001b[0m\n\u001b[1;32m      1\u001b[0m set1 \u001b[38;5;241m=\u001b[39m {\u001b[38;5;124m\"\u001b[39m\u001b[38;5;124ma\u001b[39m\u001b[38;5;124m\"\u001b[39m,\u001b[38;5;124m\"\u001b[39m\u001b[38;5;124me\u001b[39m\u001b[38;5;124m\"\u001b[39m,\u001b[38;5;124m\"\u001b[39m\u001b[38;5;124mb\u001b[39m\u001b[38;5;124m\"\u001b[39m,\u001b[38;5;124m\"\u001b[39m\u001b[38;5;124mf\u001b[39m\u001b[38;5;124m\"\u001b[39m,\u001b[38;5;124m\"\u001b[39m\u001b[38;5;124md\u001b[39m\u001b[38;5;124m\"\u001b[39m}\n\u001b[0;32m----> 3\u001b[0m \u001b[43mset1\u001b[49m\u001b[38;5;241;43m.\u001b[39;49m\u001b[43mremove\u001b[49m\u001b[43m(\u001b[49m\u001b[38;5;124;43m\"\u001b[39;49m\u001b[38;5;124;43mbh\u001b[39;49m\u001b[38;5;124;43m\"\u001b[39;49m\u001b[43m)\u001b[49m\n\u001b[1;32m      4\u001b[0m \u001b[38;5;28mprint\u001b[39m(set1)\n",
      "\u001b[0;31mKeyError\u001b[0m: 'bh'"
     ]
    }
   ],
   "source": [
    "set1 = {\"a\",\"e\",\"b\",\"f\",\"d\"}\n",
    "\n",
    "set1.remove(\"bh\")\n",
    "print(set1)"
   ]
  },
  {
   "cell_type": "markdown",
   "metadata": {},
   "source": [
    "- **symmetric_difference**\n",
    "    - Her iki kümede ortak olarak bulunmayan\\\n",
    "    elemanlardan oluşan bir küme döndürür."
   ]
  },
  {
   "cell_type": "code",
   "execution_count": 35,
   "metadata": {},
   "outputs": [
    {
     "data": {
      "text/plain": [
       "{'c', 'd', 'e', 'f'}"
      ]
     },
     "execution_count": 35,
     "metadata": {},
     "output_type": "execute_result"
    }
   ],
   "source": [
    "set1 = {\"a\",\"b\",\"c\"}\n",
    "set2 = {\"e\",\"f\",\"d\",\"a\",\"b\"}\n",
    "\n",
    "set3 =  set1.symmetric_difference(set2)\n",
    "set3"
   ]
  },
  {
   "cell_type": "markdown",
   "metadata": {},
   "source": [
    "- **symmetric_difference_update**\n",
    "    - Her iki kümede ortak bulunan elemanları kaldırır ve\\\n",
    "    ortak olmayan elemanları orijinal kümede birleştirip orijinal kümeyi günceller."
   ]
  },
  {
   "cell_type": "code",
   "execution_count": 3,
   "metadata": {},
   "outputs": [
    {
     "name": "stdout",
     "output_type": "stream",
     "text": [
      "{'b', 'a', 'c'}\n",
      "{'d', 'e', 'f', 'c'}\n"
     ]
    }
   ],
   "source": [
    "set1 = {\"a\",\"b\",\"c\"}\n",
    "set2 = {\"e\",\"f\",\"d\",\"a\",\"b\"}\n",
    "\n",
    "print(set1)\n",
    "set1.symmetric_difference_update(set2)\n",
    "print(set1)"
   ]
  },
  {
   "cell_type": "markdown",
   "metadata": {},
   "source": [
    "- **union**\n",
    "    - Ortak olan elemanlardan birer tanesini alarak\\\n",
    "    kümelerdeki tüm elemanları yeni bir kümede birleştirir.\\\n",
    "    Liste, küme, tupl gibi yinelenebilir bir yapıyı parametre olarak alabilir.\n",
    "    "
   ]
  },
  {
   "cell_type": "code",
   "execution_count": 21,
   "metadata": {},
   "outputs": [
    {
     "data": {
      "text/plain": [
       "{'a', 'b', 'c', 'd', 'e', 'f', 'g', 'h', 'x', 'y'}"
      ]
     },
     "execution_count": 21,
     "metadata": {},
     "output_type": "execute_result"
    }
   ],
   "source": [
    "set1 = {\"a\", \"b\", \"c\"}\n",
    "set2 = {\"c\", \"a\", \"d\",\"e\"}\n",
    "list1 = [\"a\", \"d\", \"f\",\"g\",\"h\",\"x\",\"y\",\"x\"]\n",
    "\n",
    "set4 = set1.union(set2,list1)\n",
    "set4"
   ]
  },
  {
   "cell_type": "markdown",
   "metadata": {},
   "source": [
    "- **update**\n",
    "    - Başka bir kümenin ya da liste, tupl gibi yinelenebilir bir yapının elemanlarını\\\n",
    "    kümeye ekler ve kümeyi günceller. Ortak olan elemanların birer tanesini ekler."
   ]
  },
  {
   "cell_type": "code",
   "execution_count": 7,
   "metadata": {},
   "outputs": [
    {
     "data": {
      "text/plain": [
       "{'a', 'b', 'c', 'd', 'e', 'f', 'g', 'h', 'x', 'y'}"
      ]
     },
     "execution_count": 7,
     "metadata": {},
     "output_type": "execute_result"
    }
   ],
   "source": [
    "set1 = {\"a\", \"b\", \"c\"}\n",
    "set2 = {\"c\", \"a\", \"d\",\"e\"}\n",
    "list1 = [\"a\", \"d\", \"f\",\"g\",\"h\",\"x\",\"y\",\"x\"]\n",
    "\n",
    "set1.update(list1,set2)\n",
    "set1"
   ]
  },
  {
   "cell_type": "code",
   "execution_count": null,
   "metadata": {},
   "outputs": [],
   "source": []
  }
 ],
 "metadata": {
  "kernelspec": {
   "display_name": "Python 3",
   "language": "python",
   "name": "python3"
  },
  "language_info": {
   "codemirror_mode": {
    "name": "ipython",
    "version": 3
   },
   "file_extension": ".py",
   "mimetype": "text/x-python",
   "name": "python",
   "nbconvert_exporter": "python",
   "pygments_lexer": "ipython3",
   "version": "3.12.0"
  }
 },
 "nbformat": 4,
 "nbformat_minor": 2
}
