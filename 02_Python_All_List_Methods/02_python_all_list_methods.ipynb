{
 "cells": [
  {
   "cell_type": "markdown",
   "metadata": {},
   "source": [
    "**Python All List Methods :**\n",
    "- <a href=\"#append\" id=\"toc-append\">**append**</a>\n",
    "- <a href=\"#clear\" id=\"toc-clear\">**clear**</a>\n",
    "- <a href=\"#copy\" id=\"toc-copy\">**copy**</a>\n",
    "- <a href=\"#count\" id=\"toc-count\">**count**</a>\n",
    "- <a href=\"#extend\" id=\"toc-extend\">**extend**</a>\n",
    "- <a href=\"#index\" id=\"toc-index\">**index**</a>\n",
    "- <a href=\"#insert\" id=\"toc-insert\">**insert**</a>\n",
    "\n",
    "[<span id='id-deneme'>**deneme**</span>](#deneme-baslik)"
   ]
  },
  {
   "cell_type": "markdown",
   "metadata": {},
   "source": [
    "<a href=\"#toc-append\"><span>&#8679;</span></a> - <span id = \"append\">**append :**</span><br>\n",
    "Listeye eleman eklenmek için kullanılır.\\\n",
    "Bu eleman sayı, metin, liste vb yapıda olabilir."
   ]
  },
  {
   "cell_type": "code",
   "execution_count": 13,
   "metadata": {},
   "outputs": [
    {
     "data": {
      "text/plain": [
       "['elma', 5, [1, 2, 3, 4]]"
      ]
     },
     "execution_count": 13,
     "metadata": {},
     "output_type": "execute_result"
    }
   ],
   "source": [
    "myList = []\n",
    "myList.append(\"elma\")\n",
    "myList.append(5)\n",
    "myList.append([1,2,3,4])\n",
    "myList"
   ]
  },
  {
   "cell_type": "markdown",
   "metadata": {},
   "source": [
    "<a href=\"#toc-clear\"><span>&#8679;</span></a> - <span id = \"clear\">**clear :**</span><br>\n",
    "Listedeki tüm elemanları silmek için kullanılır."
   ]
  },
  {
   "cell_type": "code",
   "execution_count": 1,
   "metadata": {},
   "outputs": [
    {
     "data": {
      "text/plain": [
       "[]"
      ]
     },
     "execution_count": 1,
     "metadata": {},
     "output_type": "execute_result"
    }
   ],
   "source": [
    "myList = [\"elma\",\"armut\",1,2,3]\n",
    "myList.clear()\n",
    "myList"
   ]
  },
  {
   "cell_type": "markdown",
   "metadata": {},
   "source": [
    "<a href=\"#toc-copy\"><span>&#8679;</span></a> - <span id = \"copy\">**copy :**</span><br>\n",
    "Listenin bir kopyasını oluşturur.\\\n",
    "Örneğin başka bir değişkene atamak için kullanılabilir."
   ]
  },
  {
   "cell_type": "code",
   "execution_count": 2,
   "metadata": {},
   "outputs": [
    {
     "data": {
      "text/plain": [
       "['elma', 'armut', 1, 2, 3]"
      ]
     },
     "execution_count": 2,
     "metadata": {},
     "output_type": "execute_result"
    }
   ],
   "source": [
    "myList = [\"elma\",\"armut\",1,2,3]\n",
    "newList = myList.copy()\n",
    "newList"
   ]
  },
  {
   "cell_type": "markdown",
   "metadata": {},
   "source": [
    "<a href=\"#toc-count\"><span>&#8679;</span></a> - <span id = \"count\">**count :**</span><br>\n",
    "Listedeki elemanların listede kaç defa tekrarlandığının sayısını verir."
   ]
  },
  {
   "cell_type": "code",
   "execution_count": 10,
   "metadata": {},
   "outputs": [
    {
     "data": {
      "text/plain": [
       "0"
      ]
     },
     "execution_count": 10,
     "metadata": {},
     "output_type": "execute_result"
    }
   ],
   "source": [
    "myList1 = [1,2,3,4,1,1,2,2,2,3,5,7,7]\n",
    "myList2 = [\"elma\",\"armut\",\"kiraz\",\"kiraz\"]\n",
    "\n",
    "myList2.count(\"badem\")"
   ]
  },
  {
   "cell_type": "markdown",
   "metadata": {},
   "source": [
    "<a href=\"#toc-extend\"><span>&#8679;</span></a> - <span id = \"extend\">**extend :**</span><br>\n",
    "Bir listeye başka bir listenin, sıralı bir dizinin vb. eklenmesini sağlar"
   ]
  },
  {
   "cell_type": "code",
   "execution_count": 15,
   "metadata": {},
   "outputs": [
    {
     "data": {
      "text/plain": [
       "['elma', 'armut', 1, 2, 3, 5]"
      ]
     },
     "execution_count": 15,
     "metadata": {},
     "output_type": "execute_result"
    }
   ],
   "source": [
    "meyveler1 = [\"elma\",\"armut\"]\n",
    "meyveler2 = [\"kiraz\",\"karpuz\",\"kavun\",\"armut\"]\n",
    "sayilar = (1,2,3,5)\n",
    "\n",
    "meyveler1.extend(sayilar)\n",
    "meyveler1"
   ]
  },
  {
   "cell_type": "markdown",
   "metadata": {},
   "source": [
    "<a href=\"#toc-index\"><span>&#8679;</span></a> - <span id = \"index\">**index :**</span><br>\n",
    "Bir elemanın liste içindeki konumunu verir.\\\n",
    "Aynı elemandan birden fazla varsa ilk bulduğunun konumunu verir."
   ]
  },
  {
   "cell_type": "code",
   "execution_count": null,
   "metadata": {},
   "outputs": [],
   "source": [
    "myList1 = [\"elma\",\"armut\",\"kiraz\",\"armut\"]\n",
    "myList2 = [1,2,3,1,2,5]\n",
    "\n",
    "myList2.index(7)"
   ]
  },
  {
   "cell_type": "markdown",
   "metadata": {},
   "source": [
    "<a href=\"#toc-insert\"><span>&#8679;</span></a> - <span id = \"insert\">**insert :**</span><br>\n",
    "Bir elemanı, listede istediğimiz konuma eklemek için kullanılır."
   ]
  },
  {
   "cell_type": "code",
   "execution_count": 17,
   "metadata": {},
   "outputs": [
    {
     "data": {
      "text/plain": [
       "['elma', 'armut', 'kiraz']"
      ]
     },
     "execution_count": 17,
     "metadata": {},
     "output_type": "execute_result"
    }
   ],
   "source": [
    "mylist = [\"elma\",\"armut\"]\n",
    "mylist.insert(2,\"kiraz\")\n",
    "\n",
    "mylist"
   ]
  },
  {
   "cell_type": "markdown",
   "metadata": {},
   "source": [
    "[<span>&#8679;</span>](#id-deneme)\n",
    "<span id = \"deneme-baslik\">**deneme :**</span><br>"
   ]
  },
  {
   "cell_type": "code",
   "execution_count": null,
   "metadata": {},
   "outputs": [],
   "source": []
  }
 ],
 "metadata": {
  "kernelspec": {
   "display_name": "Python 3",
   "language": "python",
   "name": "python3"
  },
  "language_info": {
   "codemirror_mode": {
    "name": "ipython",
    "version": 3
   },
   "file_extension": ".py",
   "mimetype": "text/x-python",
   "name": "python",
   "nbconvert_exporter": "python",
   "pygments_lexer": "ipython3",
   "version": "3.12.0"
  }
 },
 "nbformat": 4,
 "nbformat_minor": 2
}
