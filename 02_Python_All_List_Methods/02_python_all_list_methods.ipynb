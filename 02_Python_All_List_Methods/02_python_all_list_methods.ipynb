{
 "cells": [
  {
   "cell_type": "markdown",
   "metadata": {},
   "source": [
    "**Python All List Methods :**\n",
    "- <a href=\"#append\" id=\"toc-append\">**append**</a>\n",
    "- <a href=\"#clear\" id=\"toc-clear\">**clear**</a>\n",
    "- <a href=\"#copy\" id=\"toc-copy\">**copy**</a>\n",
    "- <a href=\"#count\" id=\"toc-count\">**count**</a>\n",
    "- <a href=\"#extend\" id=\"toc-extend\">**extend**</a>\n",
    "- <a href=\"#index\" id=\"toc-index\">**index**</a>\n",
    "- <a href=\"#insert\" id=\"toc-insert\">**insert**</a>"
   ]
  },
  {
   "cell_type": "markdown",
   "metadata": {},
   "source": [
    "<a href=\"#toc-append\"><span>&#8679;</span></a> - <span id = \"append\">**append :**</span><br>\n",
    "Listeye eleman eklenmek için kullanılır.\\\n",
    "Bu eleman sayı, metin, liste vb yapıda olabilir."
   ]
  },
  {
   "cell_type": "code",
   "execution_count": 13,
   "metadata": {},
   "outputs": [
    {
     "data": {
      "text/plain": [
       "['elma', 5, [1, 2, 3, 4]]"
      ]
     },
     "execution_count": 13,
     "metadata": {},
     "output_type": "execute_result"
    }
   ],
   "source": [
    "myList = []\n",
    "myList.append(\"elma\")\n",
    "myList.append(5)\n",
    "myList.append([1,2,3,4])\n",
    "myList"
   ]
  },
  {
   "cell_type": "markdown",
   "metadata": {},
   "source": [
    "<a href=\"#toc-clear\"><span>&#8679;</span></a> - <span id = \"clear\">**clear :**</span><br>\n",
    "Listedeki tüm elemanları silmek için kullanılır."
   ]
  },
  {
   "cell_type": "code",
   "execution_count": 1,
   "metadata": {},
   "outputs": [
    {
     "data": {
      "text/plain": [
       "[]"
      ]
     },
     "execution_count": 1,
     "metadata": {},
     "output_type": "execute_result"
    }
   ],
   "source": [
    "myList = [\"elma\",\"armut\",1,2,3]\n",
    "myList.clear()\n",
    "myList"
   ]
  },
  {
   "cell_type": "markdown",
   "metadata": {},
   "source": [
    "<a href=\"#toc-copy\"><span>&#8679;</span></a> - <span id = \"copy\">**copy :**</span><br>\n",
    "Listenin bir kopyasını oluşturur.\\\n",
    "Örneğin başka bir değişkene atamak için kullanılabilir."
   ]
  },
  {
   "cell_type": "code",
   "execution_count": 2,
   "metadata": {},
   "outputs": [
    {
     "data": {
      "text/plain": [
       "['elma', 'armut', 1, 2, 3]"
      ]
     },
     "execution_count": 2,
     "metadata": {},
     "output_type": "execute_result"
    }
   ],
   "source": [
    "myList = [\"elma\",\"armut\",1,2,3]\n",
    "newList = myList.copy()\n",
    "newList"
   ]
  },
  {
   "cell_type": "markdown",
   "metadata": {},
   "source": [
    "<a href=\"#toc-count\"><span>&#8679;</span></a> - <span id = \"count\">**count :**</span><br>\n",
    "Listedeki elemanların listede kaç defa tekrarlandığının sayısını verir."
   ]
  },
  {
   "cell_type": "code",
   "execution_count": 10,
   "metadata": {},
   "outputs": [
    {
     "data": {
      "text/plain": [
       "0"
      ]
     },
     "execution_count": 10,
     "metadata": {},
     "output_type": "execute_result"
    }
   ],
   "source": [
    "myList1 = [1,2,3,4,1,1,2,2,2,3,5,7,7]\n",
    "myList2 = [\"elma\",\"armut\",\"kiraz\",\"kiraz\"]\n",
    "\n",
    "myList2.count(\"badem\")"
   ]
  },
  {
   "cell_type": "markdown",
   "metadata": {},
   "source": [
    "<a href=\"#toc-extend\"><span>&#8679;</span></a> - <span id = \"extend\">**extend :**</span><br>\n",
    "Bir listeye başka bir listenin, sıralı bir dizinin vb. eklenmesini sağlar"
   ]
  },
  {
   "cell_type": "code",
   "execution_count": 15,
   "metadata": {},
   "outputs": [
    {
     "data": {
      "text/plain": [
       "['elma', 'armut', 1, 2, 3, 5]"
      ]
     },
     "execution_count": 15,
     "metadata": {},
     "output_type": "execute_result"
    }
   ],
   "source": [
    "meyveler1 = [\"elma\",\"armut\"]\n",
    "meyveler2 = [\"kiraz\",\"karpuz\",\"kavun\",\"armut\"]\n",
    "sayilar = (1,2,3,5)\n",
    "\n",
    "meyveler1.extend(sayilar)\n",
    "meyveler1"
   ]
  },
  {
   "cell_type": "markdown",
   "metadata": {},
   "source": [
    "<a href=\"#toc-index\"><span>&#8679;</span></a> - <span id = \"index\">**index :**</span><br>\n",
    "Bir elemanın liste içindeki konumunu verir.\\\n",
    "Aynı elemandan birden fazla varsa ilk bulduğunun konumunu verir."
   ]
  },
  {
   "cell_type": "code",
   "execution_count": null,
   "metadata": {},
   "outputs": [],
   "source": [
    "myList1 = [\"elma\",\"armut\",\"kiraz\",\"armut\"]\n",
    "myList2 = [1,2,3,1,2,5]\n",
    "\n",
    "myList2.index(7)"
   ]
  },
  {
   "cell_type": "markdown",
   "metadata": {},
   "source": [
    "<a href=\"#toc-insert\"><span>&#8679;</span></a> - <span id = \"insert\">**insert :**</span><br>\n",
    "Bir elemanı, listede istediğimiz konuma eklemek için kullanılır."
   ]
  },
  {
   "cell_type": "code",
   "execution_count": 17,
   "metadata": {},
   "outputs": [
    {
     "data": {
      "text/plain": [
       "['elma', 'armut', 'kiraz']"
      ]
     },
     "execution_count": 17,
     "metadata": {},
     "output_type": "execute_result"
    }
   ],
   "source": [
    "mylist = [\"elma\",\"armut\"]\n",
    "mylist.insert(2,\"kiraz\")\n",
    "\n",
    "mylist"
   ]
  },
  {
   "cell_type": "markdown",
   "metadata": {},
   "source": [
    "<a href=\"#toc-pop\"><span>&#8679;</span></a> - <span id = \"pop\">**pop :**</span><br>\n",
    "Listede konumu girilen elemanı silmek için kullanılır.\\\n",
    "Hiç bir değer girilmediğinde varsayılan olarak -1 alır.\\\n",
    "Yani listenin en son elemanını siler."
   ]
  },
  {
   "cell_type": "code",
   "execution_count": 10,
   "metadata": {},
   "outputs": [
    {
     "ename": "IndexError",
     "evalue": "pop index out of range",
     "output_type": "error",
     "traceback": [
      "\u001b[0;31m---------------------------------------------------------------------------\u001b[0m",
      "\u001b[0;31mIndexError\u001b[0m                                Traceback (most recent call last)",
      "Cell \u001b[0;32mIn[10], line 2\u001b[0m\n\u001b[1;32m      1\u001b[0m mylist \u001b[38;5;241m=\u001b[39m [\u001b[38;5;124m\"\u001b[39m\u001b[38;5;124ma\u001b[39m\u001b[38;5;124m\"\u001b[39m,\u001b[38;5;124m\"\u001b[39m\u001b[38;5;124mb\u001b[39m\u001b[38;5;124m\"\u001b[39m,\u001b[38;5;124m\"\u001b[39m\u001b[38;5;124mc\u001b[39m\u001b[38;5;124m\"\u001b[39m,\u001b[38;5;124m\"\u001b[39m\u001b[38;5;124md\u001b[39m\u001b[38;5;124m\"\u001b[39m]\n\u001b[0;32m----> 2\u001b[0m \u001b[43mmylist\u001b[49m\u001b[38;5;241;43m.\u001b[39;49m\u001b[43mpop\u001b[49m\u001b[43m(\u001b[49m\u001b[38;5;241;43m4\u001b[39;49m\u001b[43m)\u001b[49m\n\u001b[1;32m      3\u001b[0m mylist\n",
      "\u001b[0;31mIndexError\u001b[0m: pop index out of range"
     ]
    }
   ],
   "source": [
    "mylist = [\"a\",\"b\",\"c\",\"d\"]\n",
    "mylist.pop(4)\n",
    "mylist"
   ]
  },
  {
   "cell_type": "markdown",
   "metadata": {},
   "source": [
    "<a href=\"#toc-remove\"><span>&#8679;</span></a> - <span id = \"remove\">**remove :**</span><br>\n",
    "Listede belirttiğimiz elamanı listeden siler.\\\n",
    "Aynı elemandan birden fazla varsa liste içinde ilk bulduğu elemanı siler.\\\n",
    "index değeri yerine elemanın kendisini yazmamız gerekir."
   ]
  },
  {
   "cell_type": "code",
   "execution_count": 19,
   "metadata": {},
   "outputs": [
    {
     "ename": "ValueError",
     "evalue": "list.remove(x): x not in list",
     "output_type": "error",
     "traceback": [
      "\u001b[0;31m---------------------------------------------------------------------------\u001b[0m",
      "\u001b[0;31mValueError\u001b[0m                                Traceback (most recent call last)",
      "Cell \u001b[0;32mIn[19], line 2\u001b[0m\n\u001b[1;32m      1\u001b[0m mylist \u001b[38;5;241m=\u001b[39m [\u001b[38;5;124m\"\u001b[39m\u001b[38;5;124ma\u001b[39m\u001b[38;5;124m\"\u001b[39m,\u001b[38;5;124m\"\u001b[39m\u001b[38;5;124mb\u001b[39m\u001b[38;5;124m\"\u001b[39m,\u001b[38;5;124m\"\u001b[39m\u001b[38;5;124mc\u001b[39m\u001b[38;5;124m\"\u001b[39m,\u001b[38;5;124m\"\u001b[39m\u001b[38;5;124md\u001b[39m\u001b[38;5;124m\"\u001b[39m,\u001b[38;5;241m3\u001b[39m,(\u001b[38;5;241m0\u001b[39m,\u001b[38;5;241m1\u001b[39m)]\n\u001b[0;32m----> 2\u001b[0m \u001b[43mmylist\u001b[49m\u001b[38;5;241;43m.\u001b[39;49m\u001b[43mremove\u001b[49m\u001b[43m(\u001b[49m\u001b[38;5;124;43m\"\u001b[39;49m\u001b[38;5;124;43mf\u001b[39;49m\u001b[38;5;124;43m\"\u001b[39;49m\u001b[43m)\u001b[49m\n\u001b[1;32m      3\u001b[0m mylist\n",
      "\u001b[0;31mValueError\u001b[0m: list.remove(x): x not in list"
     ]
    }
   ],
   "source": [
    "mylist = [\"a\",\"b\",\"c\",\"d\",3,(0,1)]\n",
    "mylist.remove(\"f\")\n",
    "mylist"
   ]
  },
  {
   "cell_type": "markdown",
   "metadata": {},
   "source": [
    "<a href=\"#toc-reverse\"><span>&#8679;</span></a> - <span id = \"reverse\">**reverse :**</span><br>\n",
    "Listedeki elamanları tersten sıralar."
   ]
  },
  {
   "cell_type": "code",
   "execution_count": 28,
   "metadata": {},
   "outputs": [
    {
     "data": {
      "text/plain": [
       "[7, 4, 5, 1, 2]"
      ]
     },
     "execution_count": 28,
     "metadata": {},
     "output_type": "execute_result"
    }
   ],
   "source": [
    "#mylist = [\"a\",\"b\",\"c\",\"elma\",\"armut\"]\n",
    "mylist = [2,1,5,4,7]\n",
    "mylist.reversed()\n",
    "mylist"
   ]
  },
  {
   "cell_type": "code",
   "execution_count": null,
   "metadata": {},
   "outputs": [],
   "source": []
  }
 ],
 "metadata": {
  "kernelspec": {
   "display_name": "Python 3",
   "language": "python",
   "name": "python3"
  },
  "language_info": {
   "codemirror_mode": {
    "name": "ipython",
    "version": 3
   },
   "file_extension": ".py",
   "mimetype": "text/x-python",
   "name": "python",
   "nbconvert_exporter": "python",
   "pygments_lexer": "ipython3",
   "version": "3.12.0"
  }
 },
 "nbformat": 4,
 "nbformat_minor": 2
}
