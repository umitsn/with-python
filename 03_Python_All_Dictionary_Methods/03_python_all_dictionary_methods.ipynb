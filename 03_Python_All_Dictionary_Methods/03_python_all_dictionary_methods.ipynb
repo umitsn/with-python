{
 "cells": [
  {
   "cell_type": "markdown",
   "metadata": {},
   "source": [
    "- **clear**\n",
    "- **copy**\n",
    "- **fromkeys**\n",
    "- **get**\n",
    "- **items**"
   ]
  },
  {
   "cell_type": "markdown",
   "metadata": {},
   "source": [
    "- **clear**\\\n",
    "Sözlük içindeki bütün elemanları siler."
   ]
  },
  {
   "cell_type": "code",
   "execution_count": 1,
   "metadata": {},
   "outputs": [
    {
     "data": {
      "text/plain": [
       "{}"
      ]
     },
     "execution_count": 1,
     "metadata": {},
     "output_type": "execute_result"
    }
   ],
   "source": [
    "telefonlar = {\n",
    "    \"kisi 1\" : \"0536 000\",\n",
    "    \"kisi 2\" : \"0203 111\",\n",
    "    \"kisi 3\" : \"0105 333\"\n",
    "}\n",
    "\n",
    "telefonlar.clear()\n",
    "telefonlar"
   ]
  },
  {
   "cell_type": "markdown",
   "metadata": {},
   "source": [
    "- **copy :**\\\n",
    "Sözlük yapısını başka bir değişkene yine sözlük olarak kopyalamayı sağlar."
   ]
  },
  {
   "cell_type": "code",
   "execution_count": 1,
   "metadata": {},
   "outputs": [
    {
     "data": {
      "text/plain": [
       "{'kisi 1': '0536 000', 'kisi 2': '0203 111', 'kisi 3': '0105 333'}"
      ]
     },
     "execution_count": 1,
     "metadata": {},
     "output_type": "execute_result"
    }
   ],
   "source": [
    "telefonlar = {\n",
    "    \"kisi 1\" : \"0536 000\",\n",
    "    \"kisi 2\" : \"0203 111\",\n",
    "    \"kisi 3\" : \"0105 333\"\n",
    "}\n",
    "\n",
    "telefonlar2 = telefonlar.copy()\n",
    "telefonlar2"
   ]
  },
  {
   "cell_type": "markdown",
   "metadata": {},
   "source": [
    "- **fromkeys**\\\n",
    "Liste, denemet gibi yapıları kullanarak anahtarları farklı değer kısımları sabit olan bir sözlük yaratır."
   ]
  },
  {
   "cell_type": "code",
   "execution_count": 3,
   "metadata": {},
   "outputs": [
    {
     "data": {
      "text/plain": [
       "{'elma': 'meyve', 'armut': 'meyve', 'kiraz': 'meyve', 'üzüm': 'meyve'}"
      ]
     },
     "execution_count": 3,
     "metadata": {},
     "output_type": "execute_result"
    }
   ],
   "source": [
    "meyveler = \"elma\",\"armut\",\"kiraz\",\"üzüm\"\n",
    "newDict = dict.fromkeys(meyveler,\"meyve\")\n",
    "newDict"
   ]
  },
  {
   "cell_type": "markdown",
   "metadata": {},
   "source": [
    "- **get**\\\n",
    "Belirttiğimiz bir anahtarın değerini döndürür.\\\n",
    "Sözlük içinde var olmayan bir anahtar bilgisi içinde sonuç döndürebilir.  "
   ]
  },
  {
   "cell_type": "code",
   "execution_count": 11,
   "metadata": {},
   "outputs": [
    {
     "name": "stdout",
     "output_type": "stream",
     "text": [
      "0536 000\n",
      "000 000\n"
     ]
    }
   ],
   "source": [
    "telefonlar = {\n",
    "    \"kisi 1\" : \"0536 000\",\n",
    "    \"kisi 2\" : \"0203 111\",\n",
    "    \"kisi 3\" : \"0105 333\"\n",
    "}\n",
    "print(telefonlar.get(\"kisi 1\"))\n",
    "print(telefonlar.get(\"kisi 4\",\"000 000\"))"
   ]
  },
  {
   "cell_type": "markdown",
   "metadata": {},
   "source": [
    "- **items**\\\n",
    "Sözlükteki anahtar değer çiflerini döndürür."
   ]
  },
  {
   "cell_type": "code",
   "execution_count": 18,
   "metadata": {},
   "outputs": [
    {
     "data": {
      "text/plain": [
       "dict_items([('kisi 1', '0536'), ('kisi 2', '0203')])"
      ]
     },
     "execution_count": 18,
     "metadata": {},
     "output_type": "execute_result"
    }
   ],
   "source": [
    "telefonlar = {\n",
    "    \"kisi 1\" : \"0536\",\n",
    "    \"kisi 2\" : \"0203\"\n",
    "}\n",
    "telefonlar.items()"
   ]
  },
  {
   "cell_type": "markdown",
   "metadata": {},
   "source": [
    "- **keys**\\\n",
    "Sözlükteki anahtar değerlerini döndürür."
   ]
  },
  {
   "cell_type": "code",
   "execution_count": 23,
   "metadata": {},
   "outputs": [
    {
     "data": {
      "text/plain": [
       "dict_keys(['kisi 1', 'kisi 2', 'kisi 3', 'kisi 4'])"
      ]
     },
     "execution_count": 23,
     "metadata": {},
     "output_type": "execute_result"
    }
   ],
   "source": [
    "telefonlar = {\n",
    "    \"kisi 1\" : \"0536 000\",\n",
    "    \"kisi 2\" : \"0203 111\",\n",
    "    \"kisi 3\" : \"0105 333\"\n",
    "}\n",
    "telefonlar[\"kisi 4\"]=\"000\"\n",
    "telefonlar.keys()"
   ]
  },
  {
   "cell_type": "code",
   "execution_count": null,
   "metadata": {},
   "outputs": [],
   "source": []
  }
 ],
 "metadata": {
  "kernelspec": {
   "display_name": "Python 3",
   "language": "python",
   "name": "python3"
  },
  "language_info": {
   "codemirror_mode": {
    "name": "ipython",
    "version": 3
   },
   "file_extension": ".py",
   "mimetype": "text/x-python",
   "name": "python",
   "nbconvert_exporter": "python",
   "pygments_lexer": "ipython3",
   "version": "3.12.0"
  }
 },
 "nbformat": 4,
 "nbformat_minor": 2
}
