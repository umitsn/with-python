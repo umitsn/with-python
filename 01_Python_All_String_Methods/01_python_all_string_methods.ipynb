{
 "cells": [
  {
   "cell_type": "markdown",
   "metadata": {},
   "source": [
    "**Python All Methods List :**\n",
    "- <a href=\"#capitalize\" id=\"toc-capitalize\">**capitalize**</a>\n",
    "- <a href=\"#casefold\" id=\"toc-casefold\">**casefold**</a>\n",
    "- <a href=\"#center\" id=\"toc-center\">**center**</a>\n",
    "- <a href=\"#count\" id=\"toc-count\">**count**</a>\n",
    "- <a href=\"#encode\" id=\"toc-encode\">**encode**</a>\n",
    "- <a href=\"#find\" id=\"toc-find\">**find**</a>\n",
    "- <a href=\"#endswith\" id=\"toc-endswith\">**endswith**</a>\n",
    "- <a href=\"#expandtabs\" id=\"toc-expandtabs\">**expandtabs**</a>\n",
    "- <a href=\"#format\" id=\"toc-format\">**format**</a>\n",
    "- <a href=\"#index\" id=\"toc-index\">**index**</a>\n",
    "- <a href=\"#isalnum\" id=\"toc-isalnum\">**isalnum**</a>\n",
    "- <a href=\"#isalpha\" id=\"toc-isalpha\">**isalpha**</a>\n",
    "- <a href=\"#isascii\" id=\"toc-isascii\">**isascii**</a>\n",
    "- <a href=\"#isdecimal\" id=\"toc-isdecimal\">**isdecimal**</a>\n",
    "- <a href=\"#isdigit\" id=\"toc-isdigit\">**isdigit**</a>\n",
    "- <a href=\"#isidentifier\" id=\"toc-isidentifier\">**isidentifier**</a>\n",
    "- <a href=\"#islower\" id=\"toc-islower\">**islower**</a>\n",
    "- <a href=\"#isnumeric\" id=\"toc-isnumeric\">**isnumeric**</a>\n",
    "- <a href=\"#isprintable\" id=\"toc-isprintable\">**isprintable**</a>\n",
    "- <a href=\"#isspace\" id=\"toc-isspace\">**isspace**</a>\n",
    "- <a href=\"#istitle\" id=\"toc-istitle\">**istitle**</a>\n",
    "- <a href=\"#isupper\" id=\"toc-isupper\">**isupper**</a>\n",
    "- <a href=\"#join\" id=\"toc-join\">**join**</a>\n",
    "- <a href=\"#ljust\" id=\"toc-ljust\">**ljust**</a>\n",
    "- <a href=\"#lower\" id=\"toc-lower\">**lower**</a>\n",
    "- <a href=\"#lstrip\" id=\"toc-lstrip\">**lstrip**</a>\n",
    "- <a href=\"#maketrans-translate\" id=\"toc-maketrans-translate\">**maketrans-translate**</a>\n",
    "- <a href=\"#replace\" id=\"toc-replace\">**replace**</a>\n",
    "- <a href=\"#partition\" id=\"toc-partition\">**partition**</a>\n",
    "- <a href=\"#rfind\" id=\"toc-rfind\">**rfind**</a>\n",
    "- <a href=\"#rindex\" id=\"toc-rindex\">**rindex**</a>\n",
    "- <a href=\"#rjust\" id=\"toc-rjust\">**rjust**</a>\n",
    "- <a href=\"#rpartition\" id=\"toc-rpartition\">**rpartition**</a>\n",
    "- <a href=\"#rsplit\" id=\"toc-rsplit\">**rsplit**</a>\n",
    "- <a href=\"#rstrip\" id=\"toc-rstrip\">**rstrip**</a>\n",
    "- <a href=\"#split\" id=\"toc-split\">**split**</a>\n",
    "- <a href=\"#splitlines\" id=\"toc-splitlines\">**splitlines**</a>\n",
    "- <a href=\"#startswith\" id=\"toc-startswith\">**startswith**</a>\n",
    "- <a href=\"#strip\" id=\"toc-strip\">**strip**</a>\n",
    "- <a href=\"#swapcase\" id=\"toc-swapcase\">**swapcase**</a>"
   ]
  },
  {
   "cell_type": "markdown",
   "metadata": {},
   "source": [
    "<a href=\"#toc-capitalize\"><span>&#8679;</span></a> - <span id = \"capitalize\">**capitalize :**</span><br>"
   ]
  },
  {
   "cell_type": "code",
   "execution_count": null,
   "metadata": {},
   "outputs": [],
   "source": []
  },
  {
   "cell_type": "markdown",
   "metadata": {},
   "source": [
    "<a href=\"#toc-casefold\"><span>&#8679;</span></a> - <span id = \"casefold\">**casefold :**</span>"
   ]
  },
  {
   "cell_type": "code",
   "execution_count": null,
   "metadata": {},
   "outputs": [],
   "source": []
  },
  {
   "cell_type": "markdown",
   "metadata": {},
   "source": [
    "<a href=\"#toc-center\"><span>&#8679;</span></a> - <span id = \"center\">**center :**</span>"
   ]
  },
  {
   "cell_type": "code",
   "execution_count": null,
   "metadata": {},
   "outputs": [],
   "source": []
  },
  {
   "cell_type": "markdown",
   "metadata": {},
   "source": [
    "<a href=\"#toc-count\"><span>&#8679;</span></a> - <span id = \"count\">**count :**</span>"
   ]
  },
  {
   "cell_type": "code",
   "execution_count": null,
   "metadata": {},
   "outputs": [],
   "source": []
  },
  {
   "cell_type": "markdown",
   "metadata": {},
   "source": []
  },
  {
   "cell_type": "markdown",
   "metadata": {},
   "source": [
    "<a href=\"#toc-isspace\"><span>&#8679;</span></a> - <span id = \"isspace\">**isspace :**</span>"
   ]
  },
  {
   "cell_type": "code",
   "execution_count": 9,
   "metadata": {},
   "outputs": [
    {
     "data": {
      "text/plain": [
       "False"
      ]
     },
     "execution_count": 9,
     "metadata": {},
     "output_type": "execute_result"
    }
   ],
   "source": [
    "txt =  \"    a\"\n",
    "txt.isspace()\n"
   ]
  },
  {
   "cell_type": "markdown",
   "metadata": {},
   "source": []
  },
  {
   "cell_type": "markdown",
   "metadata": {},
   "source": [
    "<a href=\"#toc-istitle\"><span>&#8679;</span></a> - <span id = \"istitle\">**istitle :**</span>\\\n",
    "metnin tamamı büyük harften oluşuyorsa ya da\\\n",
    "her kelimenin ilk harfi büyük ise True değeri verir.\\\n",
    "Metin sayı ya da özel karakter içerebilir."
   ]
  },
  {
   "cell_type": "markdown",
   "metadata": {},
   "source": []
  },
  {
   "cell_type": "code",
   "execution_count": 10,
   "metadata": {},
   "outputs": [
    {
     "data": {
      "text/plain": [
       "False"
      ]
     },
     "execution_count": 10,
     "metadata": {},
     "output_type": "execute_result"
    }
   ],
   "source": [
    "txt = \"Merhaba, ben Ümit.\"\n",
    "txt.istitle()"
   ]
  },
  {
   "cell_type": "markdown",
   "metadata": {},
   "source": [
    "<a href=\"#toc-isupper\"><span>&#8679;</span></a> - <span id = \"isupper\">**isupper :**</span>\\\n",
    "Metindeki bütün karakterler büyük harf ise True\\\n",
    "en az bir harf küçük ise False sonucu verir.\\\n",
    "Sayılar, özel karakterler ve boşluk kontrol edilmez."
   ]
  },
  {
   "cell_type": "code",
   "execution_count": 6,
   "metadata": {},
   "outputs": [
    {
     "data": {
      "text/plain": [
       "False"
      ]
     },
     "execution_count": 6,
     "metadata": {},
     "output_type": "execute_result"
    }
   ],
   "source": [
    "txt= \"MERHABA, BEN ÜMİT. a\"\n",
    "txt.isupper()"
   ]
  },
  {
   "cell_type": "markdown",
   "metadata": {},
   "source": [
    "<a href=\"#toc-join\"><span>&#8679;</span></a> - <span id = \"join\">**join :**</span>\\\n",
    "iterable yani yinelenebilir ifadelerde her terimin arasına istenen karakter,\\\n",
    "karakter grubu ya da kelimenin eklenmesini sağlar."
   ]
  },
  {
   "cell_type": "code",
   "execution_count": 1,
   "metadata": {},
   "outputs": [
    {
     "data": {
      "text/plain": [
       "'d__e__n__e__m__e__1'"
      ]
     },
     "execution_count": 1,
     "metadata": {},
     "output_type": "execute_result"
    }
   ],
   "source": [
    "txt1 = \"deneme1\" \n",
    "txt2 = [\"d\",\"e\",\"n\",\"e\",\"m\",\"e\",\"2\"]\n",
    "txt3 = {\"sehir\":\"İzmir\",\"plaka\":\"35\"}\n",
    "\n",
    "\"__\".join(txt1)"
   ]
  },
  {
   "cell_type": "markdown",
   "metadata": {},
   "source": [
    "<a href=\"#toc-ljust\"><span>&#8679;</span></a> - <span id = \"ljust\">**ljust :**</span>\\\n",
    "string ifadeyi sola hizalayıp sağını istenilen karakter ile doldurur.\\\n",
    "Varsayılan olarak boşluk ile doldurur. Belirtilen sayıdan string ifadedeki\\\n",
    "karakter sayısı çıkarılır geri kalan sayı kadar istenilen karakter\\\n",
    "ile doldurulur."
   ]
  },
  {
   "cell_type": "code",
   "execution_count": 5,
   "metadata": {},
   "outputs": [
    {
     "data": {
      "text/plain": [
       "'Merhabaaaaaaaaaaaaaa'"
      ]
     },
     "execution_count": 5,
     "metadata": {},
     "output_type": "execute_result"
    }
   ],
   "source": [
    "txt = \"Merhaba\"\n",
    "txt.ljust(20,\"a\")"
   ]
  },
  {
   "cell_type": "markdown",
   "metadata": {},
   "source": [
    "lstrip : Metnin solundaki boşlukları, istenmeyen karakteri\n",
    "ya da karakterleri silmeye yarar.\n",
    "Varsayılan olarak boşlukları kaldırır."
   ]
  },
  {
   "cell_type": "code",
   "execution_count": 15,
   "metadata": {},
   "outputs": [
    {
     "data": {
      "text/plain": [
       "'merhaba'"
      ]
     },
     "execution_count": 15,
     "metadata": {},
     "output_type": "execute_result"
    }
   ],
   "source": [
    "txt1 = \"     merhaba    \"\n",
    "txt2 = \"11merhaba\"\n",
    "txt3 = \"aassddd,,..merhaba\"\n",
    "txt3.lstrip(\"asd,.\")"
   ]
  },
  {
   "cell_type": "markdown",
   "metadata": {},
   "source": []
  },
  {
   "cell_type": "markdown",
   "metadata": {},
   "source": [
    "maketrans ve translate : \n",
    "maketrans(kaynak,hedef,silinecekler)\n",
    "şeklinde kullanılır. Silinecekler parametresi\n",
    "kullanılmasa da olur. Örneğin maketrans(\"ab\",\"12\",\"eöi\")\n",
    "kullanımı metindeki tüm a'ları 1 yap \n",
    "tüm b'leri 2 yap ve tüm e,ö ve i'leri sil demektir. "
   ]
  },
  {
   "cell_type": "code",
   "execution_count": 19,
   "metadata": {},
   "outputs": [
    {
     "data": {
      "text/plain": [
       "'M3rh4b4, b3n Üit.'"
      ]
     },
     "execution_count": 19,
     "metadata": {},
     "output_type": "execute_result"
    }
   ],
   "source": [
    "txt = \"Merhaba, ben Ümit.\"\n",
    "translateTable = str.maketrans(\"ea\",\"34\",\"m\")\n",
    "sonuc = txt.translate(translateTable)\n",
    "sonuc"
   ]
  },
  {
   "cell_type": "code",
   "execution_count": 20,
   "metadata": {},
   "outputs": [
    {
     "data": {
      "text/plain": [
       "'Pijamali hasta, yagiz sofore cabucak guvendi.'"
      ]
     },
     "execution_count": 20,
     "metadata": {},
     "output_type": "execute_result"
    }
   ],
   "source": [
    "txt = \"Pijamalı hasta, yağız şoföre çabucak güvendi.\"\n",
    "kaynak = \"ığüşöçİĞÜŞÖÇ\"\n",
    "hedef = \"igusocIGUSOC\"\n",
    "translateTable = str.maketrans(kaynak,hedef)\n",
    "sonuc = txt.translate(translateTable)\n",
    "sonuc"
   ]
  },
  {
   "cell_type": "code",
   "execution_count": null,
   "metadata": {},
   "outputs": [],
   "source": []
  },
  {
   "cell_type": "markdown",
   "metadata": {},
   "source": [
    "replace : metindeki karakter,karakter grubu ya da bir\n",
    "kelimenin, karakter, karakter grubu ya da kelime ile \n",
    "değiştirilmesini sağlar."
   ]
  },
  {
   "cell_type": "code",
   "execution_count": 8,
   "metadata": {},
   "outputs": [
    {
     "data": {
      "text/plain": [
       "'Merhaba,_ben_Ümit'"
      ]
     },
     "execution_count": 8,
     "metadata": {},
     "output_type": "execute_result"
    }
   ],
   "source": [
    "txt=\"Merhaba, ben Ümit\"\n",
    "txt.replace(\" \",\"_\")"
   ]
  },
  {
   "cell_type": "code",
   "execution_count": null,
   "metadata": {},
   "outputs": [],
   "source": []
  },
  {
   "cell_type": "markdown",
   "metadata": {},
   "source": [
    "partition : verilen metni istenilen\n",
    "karakter ya da kelimeye göre 3 parçaya ayırır\n",
    "istenen ifade metinde yoksa üç parçanın ikisi\n",
    "boş değer olarak atanır. Sonnuç sıralı dizi\n",
    "şeklindedir."
   ]
  },
  {
   "cell_type": "code",
   "execution_count": 5,
   "metadata": {},
   "outputs": [
    {
     "data": {
      "text/plain": [
       "('Merhaba, ben Ümit. Nasılsın?', '', '')"
      ]
     },
     "execution_count": 5,
     "metadata": {},
     "output_type": "execute_result"
    }
   ],
   "source": [
    "txt = \"Merhaba, ben Ümit. Nasılsın?\"\n",
    "txt.partition(\"ümit\")"
   ]
  },
  {
   "cell_type": "markdown",
   "metadata": {},
   "source": []
  },
  {
   "cell_type": "markdown",
   "metadata": {},
   "source": [
    "rfind : Aranan ifadenin metin içindeki en sonuncusunun\n",
    "konumunu verir. Aramaya metnin sonundan başlıyor gibi\n",
    "de düşünebiliriz."
   ]
  },
  {
   "cell_type": "code",
   "execution_count": 8,
   "metadata": {},
   "outputs": [
    {
     "data": {
      "text/plain": [
       "0"
      ]
     },
     "execution_count": 8,
     "metadata": {},
     "output_type": "execute_result"
    }
   ],
   "source": [
    "txt = \"Bugün hava güneşli ve hava sıcaklığı 20 derece.\"\n",
    "txt.rfind(\"B\")"
   ]
  },
  {
   "cell_type": "markdown",
   "metadata": {},
   "source": []
  },
  {
   "cell_type": "markdown",
   "metadata": {},
   "source": [
    "rindex : Aranan ifadeyi metnin sonundan başlayarak arar.\n",
    "rfind metoduna benzer. rfind metodu aranan ifade metinde \n",
    "yoksa -1 sonucu verirken rindex metodu hata mesajı verir.\n",
    "Varsayılan olarak metnin tamamında arama yapılırken\n",
    "istenilen belirli bir aralıkta da arama yapılabilir."
   ]
  },
  {
   "cell_type": "code",
   "execution_count": 11,
   "metadata": {},
   "outputs": [
    {
     "ename": "ValueError",
     "evalue": "substring not found",
     "output_type": "error",
     "traceback": [
      "\u001b[0;31m---------------------------------------------------------------------------\u001b[0m",
      "\u001b[0;31mValueError\u001b[0m                                Traceback (most recent call last)",
      "Cell \u001b[0;32mIn[11], line 2\u001b[0m\n\u001b[1;32m      1\u001b[0m txt \u001b[38;5;241m=\u001b[39m \u001b[38;5;124m\"\u001b[39m\u001b[38;5;124mBugün hava güneşli ve hava sıcaklığı 20 derece.\u001b[39m\u001b[38;5;124m\"\u001b[39m\n\u001b[0;32m----> 2\u001b[0m \u001b[43mtxt\u001b[49m\u001b[38;5;241;43m.\u001b[39;49m\u001b[43mrindex\u001b[49m\u001b[43m(\u001b[49m\u001b[38;5;124;43m\"\u001b[39;49m\u001b[38;5;124;43mQ\u001b[39;49m\u001b[38;5;124;43m\"\u001b[39;49m\u001b[43m)\u001b[49m\n",
      "\u001b[0;31mValueError\u001b[0m: substring not found"
     ]
    }
   ],
   "source": [
    "txt = \"Bugün hava güneşli ve hava sıcaklığı 20 derece.\"\n",
    "txt.rindex(\"Q\")"
   ]
  },
  {
   "cell_type": "code",
   "execution_count": null,
   "metadata": {},
   "outputs": [],
   "source": []
  },
  {
   "cell_type": "markdown",
   "metadata": {},
   "source": []
  },
  {
   "cell_type": "markdown",
   "metadata": {},
   "source": [
    "rjust : metni istenen karakter uzunluğu kadar sağa\n",
    "hizalamaya yarar.Girilen sayı, metnin başına(soluna)\n",
    "konulan karakter sayısı ile metnin karakter sayısının\n",
    "toplamına eşittir."
   ]
  },
  {
   "cell_type": "code",
   "execution_count": 7,
   "metadata": {},
   "outputs": [
    {
     "data": {
      "text/plain": [
       "'SSSSSSSSSSSSSSSSelam'"
      ]
     },
     "execution_count": 7,
     "metadata": {},
     "output_type": "execute_result"
    }
   ],
   "source": [
    "txt= \"Selam\"\n",
    "txt.rjust(20,\"S\")"
   ]
  },
  {
   "cell_type": "code",
   "execution_count": 19,
   "metadata": {},
   "outputs": [
    {
     "data": {
      "text/plain": [
       "'100'"
      ]
     },
     "execution_count": 19,
     "metadata": {},
     "output_type": "execute_result"
    }
   ],
   "source": [
    "str(100).strip()"
   ]
  },
  {
   "cell_type": "markdown",
   "metadata": {},
   "source": []
  },
  {
   "cell_type": "markdown",
   "metadata": {},
   "source": [
    "rpartition : istenen kelime ya da karakterin, metin\n",
    "içindeki en sonuncusunu dikkate alarak metni \n",
    "3 parçaya böler."
   ]
  },
  {
   "cell_type": "code",
   "execution_count": 7,
   "metadata": {},
   "outputs": [
    {
     "data": {
      "text/plain": [
       "('', '', 'Bugün hava güneşli ve hava sıcaklığı 20 derece.')"
      ]
     },
     "execution_count": 7,
     "metadata": {},
     "output_type": "execute_result"
    }
   ],
   "source": [
    "txt =  \"Bugün hava güneşli ve hava sıcaklığı 20 derece.\"\n",
    "txt.rpartition(\"X\")"
   ]
  },
  {
   "cell_type": "markdown",
   "metadata": {},
   "source": []
  },
  {
   "cell_type": "markdown",
   "metadata": {},
   "source": [
    "rsplit : verilen bir metni istenen kelime ya da karaktere\n",
    "göre sağdan başlayarak bir liste oluşturacak şekilde böler.\n",
    "Metnin kaça bölüneceği parametre olarak girilebilir.\n",
    "Örneğin 2 yazdığımızda 3 elamanlı bir liste oluşur.\n",
    "Girilen sayının 1 fazlası..."
   ]
  },
  {
   "cell_type": "code",
   "execution_count": 28,
   "metadata": {},
   "outputs": [
    {
     "data": {
      "text/plain": [
       "['Bugün hava güneşli ve hava sıcaklığı 20 derece.']"
      ]
     },
     "execution_count": 28,
     "metadata": {},
     "output_type": "execute_result"
    }
   ],
   "source": [
    "txt=\"Bugün hava güneşli ve hava sıcaklığı 20 derece.\"\n",
    "txt.rsplit(\"x\")"
   ]
  },
  {
   "cell_type": "markdown",
   "metadata": {},
   "source": []
  },
  {
   "cell_type": "markdown",
   "metadata": {},
   "source": [
    "rstrip : bir metnin sonundaki boşlukların ya da istenmeyen \n",
    "karakterlerin kaldırılması için kullanılır."
   ]
  },
  {
   "cell_type": "code",
   "execution_count": 9,
   "metadata": {},
   "outputs": [
    {
     "data": {
      "text/plain": [
       "'   Merhaba'"
      ]
     },
     "execution_count": 9,
     "metadata": {},
     "output_type": "execute_result"
    }
   ],
   "source": [
    "txt = \"   Merhaba,,,...zzxcd\"\n",
    "txt.rstrip(\",.zxcd\")"
   ]
  },
  {
   "cell_type": "markdown",
   "metadata": {},
   "source": []
  },
  {
   "cell_type": "markdown",
   "metadata": {},
   "source": [
    "split : metni istenen karakter ya da kelimeye göre liste \n",
    "oluşturacak şekilde böler. Varsayılan olarak boşluklara\n",
    "göre böler."
   ]
  },
  {
   "cell_type": "code",
   "execution_count": 15,
   "metadata": {},
   "outputs": [
    {
     "data": {
      "text/plain": [
       "['Elma', ' kiraz, armut, portakal almalısın.']"
      ]
     },
     "execution_count": 15,
     "metadata": {},
     "output_type": "execute_result"
    }
   ],
   "source": [
    "txt = \"Elma, kiraz, armut, portakal almalısın.\"\n",
    "txt.split(\",\",1)"
   ]
  },
  {
   "cell_type": "markdown",
   "metadata": {},
   "source": []
  },
  {
   "cell_type": "markdown",
   "metadata": {},
   "source": [
    "splitlines : metnin içinde yeni satıra geçme \"\\n\" varsa \n",
    "metni \"\\n\" olan yerlerden liste şeklinde böler."
   ]
  },
  {
   "cell_type": "code",
   "execution_count": 19,
   "metadata": {},
   "outputs": [
    {
     "data": {
      "text/plain": [
       "['1. satır\\n', '2.satır\\n', '3.satır...']"
      ]
     },
     "execution_count": 19,
     "metadata": {},
     "output_type": "execute_result"
    }
   ],
   "source": [
    "txt = \"1. satır\\n2.satır\\n3.satır...\"\n",
    "txt.splitlines(True)"
   ]
  },
  {
   "cell_type": "markdown",
   "metadata": {},
   "source": []
  },
  {
   "cell_type": "markdown",
   "metadata": {},
   "source": [
    "<a href=\"#toc-startswith\"><span>&#8679;</span></a> - <span id = \"startswith\">**startswith :**</span>\n",
    "metnin, bir karakter, karakter grubu\n",
    "ya da kelime ile başlayıp başlamadığını kontrol eder.\n",
    "Metnin istenilen aralığı için de aranan değer ile \n",
    "başlayıp başlamadığı kontrol edilebilir. "
   ]
  },
  {
   "cell_type": "code",
   "execution_count": 26,
   "metadata": {},
   "outputs": [
    {
     "data": {
      "text/plain": [
       "True"
      ]
     },
     "execution_count": 26,
     "metadata": {},
     "output_type": "execute_result"
    }
   ],
   "source": [
    "txt = \"Bugün hava yağmurlu ve 18 derece.\"\n",
    "txt.startswith(\"ya\",11,20)"
   ]
  },
  {
   "cell_type": "markdown",
   "metadata": {},
   "source": []
  },
  {
   "cell_type": "markdown",
   "metadata": {},
   "source": [
    "<a href=\"#toc-strip\"><span>&#8679;</span></a> - <span id = \"strip\">**strip :**</span>\n",
    "metnin başındaki ve sonundaki boşlukları ya da\n",
    "istenmeyen karakterleri silmek için kullanılır."
   ]
  },
  {
   "cell_type": "code",
   "execution_count": null,
   "metadata": {},
   "outputs": [],
   "source": [
    "# \"..,,xxyyxx.,,merhaba,,,,..\"\n",
    "txt = \"..,,xxyyxx.,,merhaba,,,,..\" \n",
    "txt.strip(\",.xy\")"
   ]
  },
  {
   "cell_type": "markdown",
   "metadata": {},
   "source": [
    "<a href=\"#toc-swapcase\"><span>&#8679;</span></a> - <span id = \"swapcase\">**swapcase :**</span>\n",
    "metindeki büyük harfleri küçük,\n",
    "küçük harfleri büyük yapar"
   ]
  },
  {
   "cell_type": "code",
   "execution_count": 2,
   "metadata": {},
   "outputs": [
    {
     "data": {
      "text/plain": [
       "'Bu GüN hAvA GüNEşLI'"
      ]
     },
     "execution_count": 2,
     "metadata": {},
     "output_type": "execute_result"
    }
   ],
   "source": [
    "txt =  \"bU gÜn HaVa gÜneŞli\"\n",
    "txt.swapcase()"
   ]
  },
  {
   "cell_type": "code",
   "execution_count": null,
   "metadata": {},
   "outputs": [],
   "source": []
  }
 ],
 "metadata": {
  "kernelspec": {
   "display_name": "Python 3",
   "language": "python",
   "name": "python3"
  },
  "language_info": {
   "codemirror_mode": {
    "name": "ipython",
    "version": 3
   },
   "file_extension": ".py",
   "mimetype": "text/x-python",
   "name": "python",
   "nbconvert_exporter": "python",
   "pygments_lexer": "ipython3",
   "version": "3.12.0"
  }
 },
 "nbformat": 4,
 "nbformat_minor": 2
}
