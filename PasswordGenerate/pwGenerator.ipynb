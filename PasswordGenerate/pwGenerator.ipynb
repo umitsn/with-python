{
  "nbformat": 4,
  "nbformat_minor": 0,
  "metadata": {
    "colab": {
      "name": "pwGenerator.ipynb",
      "provenance": [],
      "mount_file_id": "155qqRLzzhEScf1a6j3dam8uKp9rRw7BF",
      "authorship_tag": "ABX9TyOBlHGzaxIVUxdXPMTrB6ad",
      "include_colab_link": true
    },
    "kernelspec": {
      "name": "python3",
      "display_name": "Python 3"
    },
    "language_info": {
      "name": "python"
    }
  },
  "cells": [
    {
      "cell_type": "markdown",
      "metadata": {
        "id": "view-in-github",
        "colab_type": "text"
      },
      "source": [
        "<a href=\"https://colab.research.google.com/github/umitsn/with-python/blob/master/pwGenerator.ipynb\" target=\"_parent\"><img src=\"https://colab.research.google.com/assets/colab-badge.svg\" alt=\"Open In Colab\"/></a>"
      ]
    },
    {
      "cell_type": "code",
      "source": [
        "import random\n",
        "\n",
        "uList = [chr(i) for i in range(65,91)]  ## A-Z\n",
        "lList = [chr(i) for i in range(97,123)] ## a-z\n",
        "nList = [chr(i) for i in range(48,58)]  ## 0-9\n",
        "sList = [chr(i) for i in [36,37,38,40,41,42,43]] ## $ % & ( ) * +\n",
        "\n",
        "def generatePassword(n):\n",
        "  gList = [uList,lList,nList]\n",
        "  cList = [random.choice(i) for i in gList]\n",
        "  durum = True\n",
        "  while durum:\n",
        "    if len(cList) < n:\n",
        "      k = random.choice(gList)\n",
        "      cList.append(random.choice(k))\n",
        "    else:\n",
        "      durum = False  \n",
        "  return ''.join(random.sample(cList,len(cList)))\n",
        "\n",
        "for i in range(1,6):\n",
        "  p = generatePassword(18)\n",
        "  print(f\"password {str(i).zfill(2)} : {p} : {len(p)}\")\n"
      ],
      "metadata": {
        "id": "UqSsdb3DoC-A",
        "colab": {
          "base_uri": "https://localhost:8080/"
        },
        "outputId": "c0f4ddb5-60be-4163-c6ee-f66b4d8c790f"
      },
      "execution_count": null,
      "outputs": [
        {
          "output_type": "stream",
          "name": "stdout",
          "text": [
            "password 01 : nZ4cHWq35xs87pLyxS : 18\n",
            "password 02 : d71WMD4xzB12M8P79z : 18\n",
            "password 03 : 5O56CXe2R484DG6yQx : 18\n",
            "password 04 : 90k9e90M6kLCvY0Xk5 : 18\n",
            "password 05 : AkwIT7WGHQy1BiDLyO : 18\n"
          ]
        }
      ]
    },
    {
      "cell_type": "code",
      "source": [
        ""
      ],
      "metadata": {
        "id": "AS2ur6O_f0Hs"
      },
      "execution_count": null,
      "outputs": []
    }
  ]
}
